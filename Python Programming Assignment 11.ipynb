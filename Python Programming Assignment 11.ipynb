{
 "cells": [
  {
   "cell_type": "markdown",
   "id": "3c8004ac",
   "metadata": {},
   "source": [
    "# Python Programming Assignment 11"
   ]
  },
  {
   "cell_type": "markdown",
   "id": "93e9f103",
   "metadata": {},
   "source": [
    "### 1. Write a Python program to find words which are greater than given length k?"
   ]
  },
  {
   "cell_type": "code",
   "execution_count": 6,
   "id": "f8fabcc7",
   "metadata": {},
   "outputs": [
    {
     "name": "stdout",
     "output_type": "stream",
     "text": [
      "Enter the string: Write a Python program to find words which are greater than given length k\n",
      "Enter the length of the string: 5\n",
      "Output String is :  Python program greater length\n",
      "\n"
     ]
    }
   ],
   "source": [
    "inp_str = input(\"Enter the string: \")\n",
    "k = int(input('Enter the length of the string: '))\n",
    "out_str = []\n",
    "for stg in inp_str.split(\" \"):\n",
    "    if len(stg) > k:\n",
    "        out_str.append(stg)\n",
    "        \n",
    "out_str = ' '.join(out_str)\n",
    "print('Output String is : ',out_str)\n",
    "print()"
   ]
  },
  {
   "cell_type": "markdown",
   "id": "4e13048d",
   "metadata": {},
   "source": [
    "### 2. Write a Python program for removing i-th character from a string?"
   ]
  },
  {
   "cell_type": "code",
   "execution_count": 7,
   "id": "4cc61f59",
   "metadata": {},
   "outputs": [
    {
     "name": "stdout",
     "output_type": "stream",
     "text": [
      "Enter the String: Write a Python program for removing i-th character from a string\n",
      "Enter the ith Character to remove: 10\n",
      "Write a Pyhon program for removing i-th character from a string\n"
     ]
    }
   ],
   "source": [
    "inp_str = input(\"Enter the String: \")\n",
    "ith_num_to_remove = int(input(\"Enter the ith Character to remove: \"))\n",
    "ouput_string = ''\n",
    "for ele in range(len(inp_str)):\n",
    "    if ele != ith_num_to_remove:\n",
    "        ouput_string = ouput_string + inp_str[ele]\n",
    "print(ouput_string)"
   ]
  },
  {
   "cell_type": "markdown",
   "id": "6cdfed49",
   "metadata": {},
   "source": [
    "### 3. Write a Python program to split and join a string?"
   ]
  },
  {
   "cell_type": "code",
   "execution_count": 11,
   "id": "979648d2",
   "metadata": {},
   "outputs": [
    {
     "name": "stdout",
     "output_type": "stream",
     "text": [
      "Write-a-Python-program-to-split-and-join-a-string\n"
     ]
    }
   ],
   "source": [
    "inp_str = \"Write a Python program to split and join a string\"\n",
    "liststr = inp_str.split(' ')\n",
    "ouput_string = '-'.join(liststr)\n",
    "print(ouput_string)"
   ]
  },
  {
   "cell_type": "markdown",
   "id": "f681c571",
   "metadata": {},
   "source": [
    "### 4. Write a Python to check if a given string is binary string or not?"
   ]
  },
  {
   "cell_type": "code",
   "execution_count": 15,
   "id": "b20ef1bd",
   "metadata": {},
   "outputs": [],
   "source": [
    "def isbinary(string):\n",
    "    inp_str = string\n",
    "    flag = 0\n",
    "    for ele in inp_str:\n",
    "        if ele in ['0','1']:\n",
    "            flag = 1\n",
    "            continue\n",
    "        else:\n",
    "            flag = 0\n",
    "            break\n",
    "\n",
    "    if flag == 1:\n",
    "        print('String is binary')\n",
    "    else:\n",
    "        print('String is not a binary') \n",
    "\n"
   ]
  },
  {
   "cell_type": "code",
   "execution_count": 16,
   "id": "fd0bd15d",
   "metadata": {},
   "outputs": [
    {
     "name": "stdout",
     "output_type": "stream",
     "text": [
      "Enter the string: 457120211110000\n",
      "String is not a binary\n",
      "Enter the string: 101010111100001111\n",
      "String is binary\n"
     ]
    }
   ],
   "source": [
    "string1 = input('Enter the string: ')\n",
    "isbinary(string1)\n",
    "\n",
    "string1 = input('Enter the string: ')\n",
    "isbinary(string1)"
   ]
  },
  {
   "cell_type": "markdown",
   "id": "eb308d83",
   "metadata": {},
   "source": [
    "### 5. Write a Python program to find uncommon words from two Strings?"
   ]
  },
  {
   "cell_type": "code",
   "execution_count": 21,
   "id": "1282b3f2",
   "metadata": {},
   "outputs": [
    {
     "name": "stdout",
     "output_type": "stream",
     "text": [
      "Enter String 1: Write a Python program to find uncommon\n",
      "Enter String 2: Write a Python program to find uncommon words from two Strings\n",
      "{'a', 'Python', 'find', 'uncommon', 'Write', 'program', 'two', 'Strings', 'words', 'to', 'from'}\n",
      "{'a', 'find', 'Python', 'uncommon', 'Write', 'program', 'to'}\n",
      "{'Strings', 'two', 'words', 'from'}\n"
     ]
    }
   ],
   "source": [
    "inp_string_1 = set(input(\"Enter String 1: \").split(' '))\n",
    "inp_string_2 = set(input(\"Enter String 2: \").split(' '))\n",
    "\n",
    "output_string = inp_string_1.union(inp_string_2)\n",
    "print(output_string)\n",
    "\n",
    "output_string = inp_string_1.intersection(inp_string_2)\n",
    "print(output_string)\n",
    "\n",
    "\n",
    "output_string = (inp_string_1.union(inp_string_2)).difference(inp_string_1.intersection(inp_string_2))\n",
    "print(output_string)"
   ]
  },
  {
   "cell_type": "markdown",
   "id": "5beedbe9",
   "metadata": {},
   "source": [
    "### 6. Write a Python to find all duplicate characters in string?"
   ]
  },
  {
   "cell_type": "code",
   "execution_count": 22,
   "id": "4052bddf",
   "metadata": {},
   "outputs": [
    {
     "name": "stdout",
     "output_type": "stream",
     "text": [
      "Enter the string: Write a Python to find all duplicate characters in string\n"
     ]
    },
    {
     "data": {
      "text/plain": [
       "['r', 'h', 'a', 's', 'n', 'o', 'i', 't', 'c', 'e', ' ', 'l', 'd']"
      ]
     },
     "execution_count": 22,
     "metadata": {},
     "output_type": "execute_result"
    }
   ],
   "source": [
    "inp_string = input('Enter the string: ')\n",
    "non_duplicate_list = []\n",
    "duplicate_list = []\n",
    "for elem in inp_string:\n",
    "    if elem not in non_duplicate_list:\n",
    "        non_duplicate_list.append(elem)\n",
    "    else:\n",
    "        duplicate_list.append(elem)\n",
    "        \n",
    "list(set(duplicate_list))"
   ]
  },
  {
   "cell_type": "markdown",
   "id": "f12f083e",
   "metadata": {},
   "source": [
    "### 7. Write a Python Program to check if a string contains any special character?"
   ]
  },
  {
   "cell_type": "code",
   "execution_count": 25,
   "id": "08f16a39",
   "metadata": {},
   "outputs": [],
   "source": [
    "def check_special_char(input_str):\n",
    "    spl_chars = '[@_!#$%^&*()<>?/\\|}{~:]'\n",
    "    count = 0\n",
    "    char_list = []\n",
    "    for elem in input_str:\n",
    "        if elem in spl_chars:\n",
    "            char_list.append(elem)\n",
    "            count = count+1\n",
    "            \n",
    "    if count > 0:\n",
    "        print('String contains special character, list of special characters are: ', char_list)\n",
    "    else:\n",
    "        print('String does not contain special character')"
   ]
  },
  {
   "cell_type": "code",
   "execution_count": 29,
   "id": "d7f5d218",
   "metadata": {},
   "outputs": [
    {
     "name": "stdout",
     "output_type": "stream",
     "text": [
      "Enter the string: String contains special #character, list of @special &characters are:\n",
      "String contains special character, list of special characters are:  ['#', '@', '&', ':']\n"
     ]
    }
   ],
   "source": [
    "input_str = input('Enter the string: ')\n",
    "check_special_char(input_str)"
   ]
  },
  {
   "cell_type": "code",
   "execution_count": 28,
   "id": "ea7e7bdd",
   "metadata": {},
   "outputs": [
    {
     "name": "stdout",
     "output_type": "stream",
     "text": [
      "Enter the string: String does not contain special character\n",
      "String does not contain special character\n"
     ]
    }
   ],
   "source": [
    "input_str = input('Enter the string: ')\n",
    "check_special_char(input_str)"
   ]
  },
  {
   "cell_type": "code",
   "execution_count": null,
   "id": "a94001e2",
   "metadata": {},
   "outputs": [],
   "source": []
  }
 ],
 "metadata": {
  "kernelspec": {
   "display_name": "Python 3 (ipykernel)",
   "language": "python",
   "name": "python3"
  },
  "language_info": {
   "codemirror_mode": {
    "name": "ipython",
    "version": 3
   },
   "file_extension": ".py",
   "mimetype": "text/x-python",
   "name": "python",
   "nbconvert_exporter": "python",
   "pygments_lexer": "ipython3",
   "version": "3.9.7"
  }
 },
 "nbformat": 4,
 "nbformat_minor": 5
}

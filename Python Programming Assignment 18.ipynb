{
 "cells": [
  {
   "cell_type": "markdown",
   "id": "1b9c8ffe",
   "metadata": {},
   "source": [
    "# Python Programming Assignment 18"
   ]
  },
  {
   "cell_type": "markdown",
   "id": "eeb0de9f",
   "metadata": {},
   "source": [
    "### Question 1\n",
    "Create a function that takes a list of non-negative integers and strings and return a new list without the strings.\n",
    "Examples\n",
    "filter_list([1, 2, \"a\", \"b\"]) ➞ [1, 2]\n",
    "\n",
    "filter_list([1, \"a\", \"b\", 0, 15]) ➞ [1, 0, 15]\n",
    "\n",
    "filter_list([1, 2, \"aasf\", \"1\", \"123\", 123]) ➞ [1, 2, 123]\n"
   ]
  },
  {
   "cell_type": "code",
   "execution_count": 8,
   "id": "3b0c4f1a",
   "metadata": {},
   "outputs": [
    {
     "name": "stdout",
     "output_type": "stream",
     "text": [
      "[1, 2, 123]\n"
     ]
    }
   ],
   "source": [
    "l = [1, 2, 'aasf', '1', '123', 123]\n",
    "\n",
    "def filter_list(l):\n",
    "    new_list = []\n",
    "    for x in l:\n",
    "        if type(x) == int:\n",
    "            new_list.append(x)\n",
    "    return new_list\n",
    "\n",
    "print(filter_list(l))"
   ]
  },
  {
   "cell_type": "code",
   "execution_count": 9,
   "id": "3dfa5a93",
   "metadata": {},
   "outputs": [
    {
     "name": "stdout",
     "output_type": "stream",
     "text": [
      "[1, 2, 123]\n"
     ]
    }
   ],
   "source": [
    "print(filter_list([1, 2, \"aasf\", \"1\", \"123\", 123]))"
   ]
  },
  {
   "cell_type": "markdown",
   "id": "a74a351c",
   "metadata": {},
   "source": [
    "### Question 2 The \"Reverser\" takes a string as input and returns that string in reverse order, with the opposite case.\n",
    "Examples\n",
    "reverse(\"Hello World\") ➞ \"DLROw OLLEh\"\n",
    "\n",
    "reverse(\"ReVeRsE\") ➞ \"eSrEvEr\"\n",
    "\n",
    "reverse(\"Radar\") ➞ \"RADAr\""
   ]
  },
  {
   "cell_type": "code",
   "execution_count": 12,
   "id": "7f0d7f6f",
   "metadata": {},
   "outputs": [
    {
     "name": "stdout",
     "output_type": "stream",
     "text": [
      "eSrEvEr\n"
     ]
    }
   ],
   "source": [
    "def reverse(str1):\n",
    "    str1 = str1[::-1]\n",
    "    return str1.swapcase()\n",
    "    \n",
    "print(reverse('ReVeRsE'))\n"
   ]
  },
  {
   "cell_type": "code",
   "execution_count": 13,
   "id": "475c18b2",
   "metadata": {},
   "outputs": [
    {
     "data": {
      "text/plain": [
       "'DLROw OLLEh'"
      ]
     },
     "execution_count": 13,
     "metadata": {},
     "output_type": "execute_result"
    }
   ],
   "source": [
    "reverse('Hello World')"
   ]
  },
  {
   "cell_type": "code",
   "execution_count": 14,
   "id": "e6bdebe5",
   "metadata": {},
   "outputs": [
    {
     "data": {
      "text/plain": [
       "'RADAr'"
      ]
     },
     "execution_count": 14,
     "metadata": {},
     "output_type": "execute_result"
    }
   ],
   "source": [
    "reverse('Radar')"
   ]
  },
  {
   "cell_type": "markdown",
   "id": "6f50001b",
   "metadata": {},
   "source": [
    "### Question 3  You can assign variables from lists like this:\n",
    "    \n",
    "lst = [1, 2, 3, 4, 5, 6]\n",
    "\n",
    "first = lst[0]\n",
    "\n",
    "middle = lst[1:-1]\n",
    "\n",
    "last = lst[-1]\n",
    "\n",
    "print(first) ➞ outputs 1\n",
    "\n",
    "print(middle) ➞ outputs [2, 3, 4, 5]\n",
    "\n",
    "print(last) ➞ outputs 6\n",
    "\n",
    "With Python 3, you can assign variables from lists in a much more succinct way. Create variables first, middle and last from the given list using destructuring assignment (check the Resources tab for some examples), where:\n",
    "first  ➞ 1\n",
    "\n",
    "middle ➞ [2, 3, 4, 5]\n",
    "\n",
    "last ➞ 6\n",
    "\n",
    "Your task is to unpack the list writeyourcodehere into three variables, being first, middle, and last, with middle being everything in between the first and last element. Then print all three variables."
   ]
  },
  {
   "cell_type": "code",
   "execution_count": 16,
   "id": "09d74b85",
   "metadata": {},
   "outputs": [
    {
     "data": {
      "text/plain": [
       "(1, [2, 3, 4, 5], 6)"
      ]
     },
     "execution_count": 16,
     "metadata": {},
     "output_type": "execute_result"
    }
   ],
   "source": [
    "lst = [1, 2, 3, 4, 5, 6]\n",
    "first ,*middle,last = lst\n",
    "\n",
    "\n",
    "first ,middle,last"
   ]
  },
  {
   "cell_type": "markdown",
   "id": "cb73e489",
   "metadata": {},
   "source": [
    "### Question 4  Write a function that calculates the factorial of a number recursively.\n",
    "\n",
    "Examples\n",
    "factorial(5) ➞ 120\n",
    "\n",
    "factorial(3) ➞ 6\n",
    "\n",
    "factorial(1) ➞ 1\n",
    "\n",
    "factorial(0) ➞ 1"
   ]
  },
  {
   "cell_type": "code",
   "execution_count": 1,
   "id": "bd6ce0b6",
   "metadata": {},
   "outputs": [
    {
     "name": "stdout",
     "output_type": "stream",
     "text": [
      "enter a number :5\n",
      "Factorial of 5 is 120\n"
     ]
    }
   ],
   "source": [
    "def factorial(n):     \n",
    "    if n == 0:\n",
    "        return 1    \n",
    "    return n * factorial(n-1)\n",
    "\n",
    "num = int(input('enter a number :'))\n",
    "print(\"Factorial of\", num, \"is\", factorial(num))"
   ]
  },
  {
   "cell_type": "code",
   "execution_count": 18,
   "id": "d1a73c49",
   "metadata": {},
   "outputs": [
    {
     "name": "stdout",
     "output_type": "stream",
     "text": [
      "enter a number :3\n",
      "Factorial of 3 is 6\n"
     ]
    }
   ],
   "source": [
    "num = int(input('enter a number :'))\n",
    "print(\"Factorial of\", num, \"is\", factorial(num))"
   ]
  },
  {
   "cell_type": "code",
   "execution_count": 19,
   "id": "c0ddf4eb",
   "metadata": {},
   "outputs": [
    {
     "name": "stdout",
     "output_type": "stream",
     "text": [
      "enter a number :1\n",
      "Factorial of 1 is 1\n"
     ]
    }
   ],
   "source": [
    "num = int(input('enter a number :'))\n",
    "print(\"Factorial of\", num, \"is\", factorial(num))"
   ]
  },
  {
   "cell_type": "code",
   "execution_count": 20,
   "id": "40766d8f",
   "metadata": {},
   "outputs": [
    {
     "name": "stdout",
     "output_type": "stream",
     "text": [
      "enter a number :0\n",
      "Factorial of 0 is 1\n"
     ]
    }
   ],
   "source": [
    "num = int(input('enter a number :'))\n",
    "print(\"Factorial of\", num, \"is\", factorial(num))"
   ]
  },
  {
   "cell_type": "markdown",
   "id": "df8dc6b5",
   "metadata": {},
   "source": [
    "### Question 5 Write a function that moves all elements of one type to the end of the list.\n",
    "\n",
    "Examples\n",
    "\n",
    "move_to_end([1, 3, 2, 4, 4, 1], 1) ➞ [3, 2, 4, 4, 1, 1]\n",
    "\n",
    "#### Move all the 1s to the end of the array.\n",
    "\n",
    "move_to_end([7, 8, 9, 1, 2, 3, 4], 9) ➞ [7, 8, 1, 2, 3, 4, 9]\n",
    "\n",
    "move_to_end([\"a\", \"a\", \"a\", \"b\"], \"a\") ➞ [\"b\", \"a\", \"a\", \"a\"]"
   ]
  },
  {
   "cell_type": "code",
   "execution_count": 43,
   "id": "28fcc738",
   "metadata": {},
   "outputs": [],
   "source": [
    "def move_to_end(list1,num):\n",
    "    first_end = []\n",
    "    second_end = []\n",
    "    for elem in list1:\n",
    "        if elem == num:\n",
    "            second_end.append(elem)\n",
    "            print(\"second_end: \",second_end)\n",
    "        else:\n",
    "            first_end.append(elem)\n",
    "            print(\"first_end: \",first_end)\n",
    "    #first_end.append(second_end)\n",
    "    first_end.extend(second_end)\n",
    "    return first_end"
   ]
  },
  {
   "cell_type": "code",
   "execution_count": 44,
   "id": "e50be0de",
   "metadata": {},
   "outputs": [
    {
     "name": "stdout",
     "output_type": "stream",
     "text": [
      "first_end:  [7]\n",
      "first_end:  [7, 8]\n",
      "second_end:  [9]\n",
      "first_end:  [7, 8, 1]\n",
      "first_end:  [7, 8, 1, 2]\n",
      "first_end:  [7, 8, 1, 2, 3]\n",
      "first_end:  [7, 8, 1, 2, 3, 4]\n",
      "7 8 1 2 3 4 9 "
     ]
    }
   ],
   "source": [
    "arr = [7, 8, 9, 1, 2, 3, 4]\n",
    "k = 9\n",
    "ans = move_to_end(arr, k)\n",
    "for i in range(len(arr)):\n",
    "    print(ans[i] ,end= \" \")"
   ]
  },
  {
   "cell_type": "code",
   "execution_count": 45,
   "id": "baa29edd",
   "metadata": {},
   "outputs": [
    {
     "name": "stdout",
     "output_type": "stream",
     "text": [
      "second_end:  [1]\n",
      "first_end:  [3]\n",
      "first_end:  [3, 2]\n",
      "first_end:  [3, 2, 4]\n",
      "first_end:  [3, 2, 4, 4]\n",
      "second_end:  [1, 1]\n",
      "3 2 4 4 1 1 "
     ]
    }
   ],
   "source": [
    "arr = [1, 3, 2, 4, 4, 1]\n",
    "k = 1\n",
    "ans = move_to_end(arr, k)\n",
    "for i in range(len(arr)):\n",
    "    print(ans[i] ,end= \" \")"
   ]
  },
  {
   "cell_type": "code",
   "execution_count": 46,
   "id": "0f3d4dd1",
   "metadata": {},
   "outputs": [
    {
     "name": "stdout",
     "output_type": "stream",
     "text": [
      "second_end:  ['a']\n",
      "second_end:  ['a', 'a']\n",
      "second_end:  ['a', 'a', 'a']\n",
      "first_end:  ['b']\n",
      "b a a a "
     ]
    }
   ],
   "source": [
    "arr = [\"a\", \"a\", \"a\", \"b\"]\n",
    "k = \"a\"\n",
    "ans = move_to_end(arr, k)\n",
    "for i in range(len(arr)):\n",
    "    print(ans[i] ,end= \" \")"
   ]
  },
  {
   "cell_type": "code",
   "execution_count": null,
   "id": "b40ee255",
   "metadata": {},
   "outputs": [],
   "source": []
  },
  {
   "cell_type": "code",
   "execution_count": null,
   "id": "6539ea62",
   "metadata": {},
   "outputs": [],
   "source": []
  }
 ],
 "metadata": {
  "kernelspec": {
   "display_name": "Python 3 (ipykernel)",
   "language": "python",
   "name": "python3"
  },
  "language_info": {
   "codemirror_mode": {
    "name": "ipython",
    "version": 3
   },
   "file_extension": ".py",
   "mimetype": "text/x-python",
   "name": "python",
   "nbconvert_exporter": "python",
   "pygments_lexer": "ipython3",
   "version": "3.9.7"
  }
 },
 "nbformat": 4,
 "nbformat_minor": 5
}

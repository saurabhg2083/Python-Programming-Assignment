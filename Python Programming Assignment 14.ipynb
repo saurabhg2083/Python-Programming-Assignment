{
 "cells": [
  {
   "cell_type": "markdown",
   "id": "89fc34a1",
   "metadata": {},
   "source": [
    "# Python Programming Assignment 14"
   ]
  },
  {
   "cell_type": "markdown",
   "id": "e33816c1",
   "metadata": {},
   "source": [
    "### Question 1: Define a class with a generator which can iterate the numbers, which are divisible by 7, between a given range 0 and n.\n"
   ]
  },
  {
   "cell_type": "code",
   "execution_count": 15,
   "id": "d2a8e0b9",
   "metadata": {},
   "outputs": [
    {
     "name": "stdout",
     "output_type": "stream",
     "text": [
      "0 7 14 21 28 35 42 49 56 63 70 77 84 91 98 "
     ]
    }
   ],
   "source": [
    "def divCheckerBySeven(n):\n",
    "    for i in range(n):\n",
    "        if i % 7 == 0:\n",
    "            yield i\n",
    "\n",
    "for i in divCheckerBySeven(100):\n",
    "    print(i, end=\" \")"
   ]
  },
  {
   "cell_type": "code",
   "execution_count": 5,
   "id": "e771c02a",
   "metadata": {},
   "outputs": [
    {
     "name": "stdout",
     "output_type": "stream",
     "text": [
      "[0, 7, 14, 21, 28, 35, 42, 49, 56, 63, 70, 77, 84, 91, 98, 105, 112, 119, 126, 133, 140, 147]\n"
     ]
    }
   ],
   "source": [
    "n = 150\n",
    "result = [i for i in range(0, n) if (i % 7 == 0)]\n",
    "print(result)"
   ]
  },
  {
   "cell_type": "markdown",
   "id": "58c30dbd",
   "metadata": {},
   "source": [
    "### Question 2: Write a program to compute the frequency of the words from the input. The output should output after sorting the key alphanumerically. \n",
    "\n",
    "Suppose the following input is supplied to the program:\n",
    "\n",
    "New to Python or choosing between Python 2 and Python 3? Read Python 2 or Python 3.\n",
    "\n",
    "Then, the output should be:\n",
    "\n",
    "    2:2     3.:1     3?:1    New:1    Python:5    Read:1    and:1    between:1    choosing:1    or:2    to:1"
   ]
  },
  {
   "cell_type": "code",
   "execution_count": 36,
   "id": "27adbd43",
   "metadata": {},
   "outputs": [
    {
     "name": "stdout",
     "output_type": "stream",
     "text": [
      "2 : 2\n",
      "3 : 1\n",
      "3? : 1\n",
      "New : 1\n",
      "Python : 5\n",
      "Read : 1\n",
      "and : 1\n",
      "between : 1\n",
      "choosing : 1\n",
      "or : 1\n",
      "to : 1\n"
     ]
    }
   ],
   "source": [
    "str ='or 2 3 3? 2 New Python Read Python and Python between Python choosing Python to'\n",
    "str = str.split()\n",
    "str2 = []\n",
    "\n",
    "for i in str:\n",
    "    if i not in str2:\n",
    "        str2.append(i)\n",
    "\n",
    "freq_dict = {}\n",
    "for i in range(0, len(str2)):\n",
    "    #print( str2[i], ':', str.count(str2[i]))\n",
    "    freq_dict[str2[i]] = str.count(str2[i])\n",
    "\n",
    "\n",
    "#print(\"Frequency Dictionary: \",freq_dict)\n",
    "\n",
    "sorted_freq_dict = sorted(freq_dict.items())\n",
    "#print(\"Sorted Frequency Dictionary: \",sorted_freq_dict)\n",
    "\n",
    "for i in sorted_freq_dict:\n",
    "    print(i[0],':', i[1])"
   ]
  },
  {
   "cell_type": "markdown",
   "id": "83788615",
   "metadata": {},
   "source": [
    "### Question 3: Define a class Person and its two child classes: Male and Female. All classes have a method \"getGender\" which can print \"Male\" for Male class and \"Female\" for Female class.\n",
    "\n",
    "\n"
   ]
  },
  {
   "cell_type": "code",
   "execution_count": 39,
   "id": "e570580a",
   "metadata": {},
   "outputs": [
    {
     "name": "stdout",
     "output_type": "stream",
     "text": [
      "Unknown\n",
      "Male\n",
      "Female\n"
     ]
    }
   ],
   "source": [
    "class Person(object):\n",
    "    def getGender( self ):\n",
    "        return \"Unknown\"\n",
    "\n",
    "class Male(Person):\n",
    "    def getGender( self ):\n",
    "        return \"Male\"\n",
    "\n",
    "class Female( Person ):\n",
    "    def getGender( self ):\n",
    "        return \"Female\"\n",
    "\n",
    "aPerson = Person()\n",
    "aMale = Male()\n",
    "aFemale= Female()\n",
    "print(aPerson.getGender())\n",
    "print(aMale.getGender())\n",
    "print(aFemale.getGender())\n"
   ]
  },
  {
   "cell_type": "markdown",
   "id": "45d94157",
   "metadata": {},
   "source": [
    "### Question 4: Please write a program to generate all sentences where subject is in [\"I\", \"You\"] and verb is in [\"Play\", \"Love\"] and the object is in [\"Hockey\",\"Football\"].\n",
    "\n"
   ]
  },
  {
   "cell_type": "code",
   "execution_count": 41,
   "id": "8ba78722",
   "metadata": {},
   "outputs": [
    {
     "name": "stdout",
     "output_type": "stream",
     "text": [
      "I Play Hockey.\n",
      "I Play Football.\n",
      "I Love Hockey.\n",
      "I Love Football.\n",
      "You Play Hockey.\n",
      "You Play Football.\n",
      "You Love Hockey.\n",
      "You Love Football.\n"
     ]
    }
   ],
   "source": [
    "subjects=[\"I\", \"You\"]\n",
    "verbs=[\"Play\", \"Love\"]\n",
    "objects=[\"Hockey\",\"Football\"]\n",
    "for i in range(len(subjects)):\n",
    "    for j in range(len(verbs)):\n",
    "        for k in range(len(objects)):\n",
    "            sentence = \"%s %s %s.\" % (subjects[i], verbs[j], objects[k])\n",
    "            print(sentence)"
   ]
  },
  {
   "cell_type": "markdown",
   "id": "1b164631",
   "metadata": {},
   "source": [
    "### Question 5: Please write a program to compress and decompress the string \"hello world!hello world!hello world!hello world!\".\n"
   ]
  },
  {
   "cell_type": "code",
   "execution_count": 53,
   "id": "4d1b2cc8",
   "metadata": {},
   "outputs": [
    {
     "name": "stdout",
     "output_type": "stream",
     "text": [
      "b'x\\x9c\\xcbH\\xcd\\xc9\\xc9W(\\xcf/\\xcaIQ\\xcc \\x82\\r\\x00\\xbd[\\x11\\xf5'\n",
      "b'hello world!hello world!hello world!hello world!'\n"
     ]
    }
   ],
   "source": [
    "import zlib\n",
    "str1 = 'hello world!hello world!hello world!hello world!'\n",
    "bytes1 = bytes(str1, 'utf-8')\n",
    "compress1 = zlib.compress(bytes1)\n",
    "\n",
    "print(compress1)\n",
    "print(zlib.decompress(compress1))"
   ]
  },
  {
   "cell_type": "markdown",
   "id": "a328b1a5",
   "metadata": {},
   "source": [
    "### Question 6: Please write a binary search function which searches an item in a sorted list. The function should return the index of element to be searched in the list.\n"
   ]
  },
  {
   "cell_type": "code",
   "execution_count": 69,
   "id": "99823453",
   "metadata": {},
   "outputs": [
    {
     "name": "stdout",
     "output_type": "stream",
     "text": [
      "First occurrence of 8 is present at 4\n"
     ]
    }
   ],
   "source": [
    "from bisect import bisect_left\n",
    "\n",
    "def BinarySearch(a, x):\n",
    "    i = bisect_left(a, x)\n",
    "    #print(i)\n",
    "    if i != len(a) and a[i] == x:\n",
    "        return i\n",
    "    else:\n",
    "        return -1\n",
    "\n",
    "a = [1, 2, 4, 4, 8]\n",
    "x = int(8)\n",
    "res = BinarySearch(a, x)\n",
    "if res == -1:\n",
    "    print(x, \"is absent\")\n",
    "else:\n",
    "    print(\"First occurrence of\", x, \"is present at\", res)"
   ]
  },
  {
   "cell_type": "code",
   "execution_count": null,
   "id": "ed35b4d3",
   "metadata": {},
   "outputs": [],
   "source": []
  }
 ],
 "metadata": {
  "kernelspec": {
   "display_name": "Python 3 (ipykernel)",
   "language": "python",
   "name": "python3"
  },
  "language_info": {
   "codemirror_mode": {
    "name": "ipython",
    "version": 3
   },
   "file_extension": ".py",
   "mimetype": "text/x-python",
   "name": "python",
   "nbconvert_exporter": "python",
   "pygments_lexer": "ipython3",
   "version": "3.9.7"
  }
 },
 "nbformat": 4,
 "nbformat_minor": 5
}

{
 "cells": [
  {
   "cell_type": "markdown",
   "id": "d8ed8d0b",
   "metadata": {},
   "source": [
    "# Python Advance Assignment 24"
   ]
  },
  {
   "cell_type": "markdown",
   "id": "d91cebf0",
   "metadata": {},
   "source": [
    "#### Q1. Is it permissible to use several import statements to import the same module? What would the goal be? Can you think of a situation where it would be beneficial ?\n",
    "**Ans:** Yes, it is permissible to use several import statements to import the same module. It is used in case when we have to import multiple functions from same module. \n",
    "\n",
    "from sklearn.linear_model import LogisticRegression\n",
    "from sklearn.neighbors import KNeighborsClassifier\n"
   ]
  },
  {
   "cell_type": "markdown",
   "id": "4cca993e",
   "metadata": {},
   "source": [
    "#### Q2. What are some of a module's characteristics? (Name at least one.)\n",
    "**Ans:** \n",
    "Characteristics of Modules:\n",
    "\n",
    "Modules contain instructions, processing logic, and data.\n",
    "\n",
    "Modules can be separately compiled and stored in a library.\n",
    "\n",
    "Modules can be included in a program.\n",
    "\n",
    "Module segments can be used by invoking a name and some parameters.\n",
    "\n",
    "Module segments can be used by other modules."
   ]
  },
  {
   "cell_type": "markdown",
   "id": "748f017b",
   "metadata": {},
   "source": [
    "#### Q3. Circular importing, such as when two modules import each other, can lead to dependencies and bugs that aren't visible. How can you go about creating a program that avoids mutual importing?\n",
    "**Ans:** A circular dependency occurs when two or more modules depend on each other. This is due to the fact that each module is defined in terms of the other\n",
    "\n",
    "    functionA():\n",
    "        functionB()\n",
    "\n",
    "    functionB():\n",
    "        functionA()\n",
    "    \n",
    "    \n",
    "The code above depicts a fairly obvious circular dependency. functionA() calls functionB(), thus depending on it, and functionB() calls functionA(). This type of circular dependency has some obvious problems, which we'll describe a bit further in the next section.\n",
    "\n",
    "Circular dependencies can cause quite a few problems in your code. For example, it may generate tight coupling between modules, and as a consequence, reduced code reusability. This fact also makes the code more difficult to maintain in the long run.\n",
    "\n",
    "In addition, circular dependencies can be the source of potential failures, such as infinite recursions, memory leaks, and cascade effects. If you're not careful and you have a circular dependency in your code, it can be very difficult to debug the many potential problems it causes."
   ]
  },
  {
   "cell_type": "markdown",
   "id": "0d04f7b8",
   "metadata": {},
   "source": [
    "##### module1\n",
    "    import module2\n",
    "\n",
    "    def function1():\n",
    "        module2.function2()\n",
    "\n",
    "    def function3():\n",
    "        print('Goodbye, World!')"
   ]
  },
  {
   "cell_type": "markdown",
   "id": "c4306e56",
   "metadata": {},
   "source": [
    "##### module2\n",
    "    import module1\n",
    "\n",
    "    def function2():\n",
    "        print('Hello, World!')\n",
    "        module1.function3()"
   ]
  },
  {
   "cell_type": "markdown",
   "id": "bfac167f",
   "metadata": {},
   "source": [
    "    \n",
    "    def function1():\n",
    "        import module2\n",
    "        module2.function2()\n",
    "\n",
    "    def function3():\n",
    "        print('Goodbye, World!')"
   ]
  },
  {
   "cell_type": "markdown",
   "id": "74cfdc5e",
   "metadata": {},
   "source": [
    "#### Q4. Why is  __all__ in Python ?\n",
    "**Ans:** It provides list of all modules present in a library. "
   ]
  },
  {
   "cell_type": "markdown",
   "id": "0d818cbd",
   "metadata": {},
   "source": [
    "#### Q5. In what situation is it useful to refer to the __name__ attribute or the string __main__ ?\n",
    "**Ans:** During the time of execution of the code if we want to refer the module in which we are working on then we uses name attribute. In that case it will return the module in which we are working on. Suppose if that moudle is being imported from some other module then name will have the name of that moudle from where the current module has been imported. The current module in which we are working is refer to the string __main __."
   ]
  },
  {
   "cell_type": "code",
   "execution_count": null,
   "id": "171a6d9c",
   "metadata": {},
   "outputs": [],
   "source": []
  }
 ],
 "metadata": {
  "kernelspec": {
   "display_name": "Python 3 (ipykernel)",
   "language": "python",
   "name": "python3"
  },
  "language_info": {
   "codemirror_mode": {
    "name": "ipython",
    "version": 3
   },
   "file_extension": ".py",
   "mimetype": "text/x-python",
   "name": "python",
   "nbconvert_exporter": "python",
   "pygments_lexer": "ipython3",
   "version": "3.9.7"
  }
 },
 "nbformat": 4,
 "nbformat_minor": 5
}

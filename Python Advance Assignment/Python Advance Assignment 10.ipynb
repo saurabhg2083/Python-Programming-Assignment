{
 "cells": [
  {
   "cell_type": "markdown",
   "id": "b8afdc36",
   "metadata": {},
   "source": [
    "# Python Advance Assignment 10"
   ]
  },
  {
   "cell_type": "markdown",
   "id": "54257650",
   "metadata": {},
   "source": [
    "#### Q1. What is the difference between `__getattr__` and `__getattribute__`?\n",
    "**Ans:**  A key difference between __getattr__ and __getattribute__ is that __getattr__ is only invoked if the attribute wasn't found the usual ways. It's good for implementing a fallback for missing attributes, and is probably the one of two you want.\n",
    "\n",
    "__getattribute__ is invoked before looking at the actual attributes on the object, and so can be tricky to implement correctly. You can end up in infinite recursions very easily.\n",
    "\n",
    "New-style classes derive from object, old-style classes are those in Python 2.x with no explicit base class. But the distinction between old-style and new-style classes is not the important one when choosing between __getattr__ and __getattribute__.\n",
    "\n",
    "You almost certainly want __getattr__.\n"
   ]
  },
  {
   "cell_type": "markdown",
   "id": "51f7319c",
   "metadata": {},
   "source": [
    "#### Q2. What is the difference between properties and descriptors?\n",
    "**Ans:** There are several ways that we can tap into Python's internal mechanisms for getting and setting attribute values. The most accessible technique is to use the property function to define get, set and delete methods associated with an attribute name. The property function builds descriptors for you. A slightly less accessible, but more extensible and reusable technique is to define descriptor classes yourself. This allows you considerable flexibility. You do this by creating a class which defines get, set and delete methods, and you associate your descriptor class with an attribute name.\n",
    "\n",
    "The property function gives us a handy way to implement a simple descriptor without defining a separate class. Rather than create a complete class definition, we can write getter and setter method functions, and then bind these functions to an attribute name."
   ]
  },
  {
   "cell_type": "code",
   "execution_count": 4,
   "id": "ee39af47",
   "metadata": {},
   "outputs": [
    {
     "data": {
      "text/plain": [
       "232.22222222222223"
      ]
     },
     "execution_count": 4,
     "metadata": {},
     "output_type": "execute_result"
    }
   ],
   "source": [
    "# Descriptor example:\n",
    "\n",
    "class Celsius( object ):\n",
    "    def __init__( self, value=0.0 ):\n",
    "        self.value= float(value)\n",
    "    def __get__( self, instance, owner ):\n",
    "        return self.value\n",
    "    def __set__( self, instance, value ):\n",
    "        self.value= float(value)\n",
    "\n",
    "class Farenheit( object ):\n",
    "    def __get__( self, instance, owner ):\n",
    "        return instance.celsius * 9 / 5 + 32\n",
    "    def __set__( self, instance, value ):\n",
    "        instance.celsius= (float(value)-32) * 5 / 9\n",
    "\n",
    "class Temperature( object ):\n",
    "    celsius= Celsius()\n",
    "    farenheit= Farenheit()\n",
    "\n",
    "oven= Temperature()\n",
    "oven.farenheit= 450\n",
    "oven.celsius"
   ]
  },
  {
   "cell_type": "code",
   "execution_count": 5,
   "id": "81e5e2e6",
   "metadata": {},
   "outputs": [
    {
     "data": {
      "text/plain": [
       "347.0"
      ]
     },
     "execution_count": 5,
     "metadata": {},
     "output_type": "execute_result"
    }
   ],
   "source": [
    "oven.celsius= 175\n",
    "oven.farenheit"
   ]
  },
  {
   "cell_type": "code",
   "execution_count": 6,
   "id": "9cd066ac",
   "metadata": {},
   "outputs": [
    {
     "data": {
      "text/plain": [
       "232.22222222222223"
      ]
     },
     "execution_count": 6,
     "metadata": {},
     "output_type": "execute_result"
    }
   ],
   "source": [
    "class Temperature( object ):\n",
    "    def fget( self ):\n",
    "        return self.celsius * 9 / 5 + 32\n",
    "    def fset( self, value ):\n",
    "        self.celsius= (float(value)-32) * 5 / 9\n",
    "    farenheit= property( fget, fset )\n",
    "    def cset( self, value ):\n",
    "        self.cTemp= float(value)\n",
    "    def cget( self ):\n",
    "        return self.cTemp\n",
    "    celsius= property( cget, cset, doc=\"Celsius temperature\" )\n",
    "    \n",
    "oven= Temperature()\n",
    "oven.farenheit= 450\n",
    "oven.celsius"
   ]
  },
  {
   "cell_type": "code",
   "execution_count": 7,
   "id": "bf210e46",
   "metadata": {},
   "outputs": [
    {
     "data": {
      "text/plain": [
       "347.0"
      ]
     },
     "execution_count": 7,
     "metadata": {},
     "output_type": "execute_result"
    }
   ],
   "source": [
    "oven.celsius= 175\n",
    "oven.farenheit"
   ]
  },
  {
   "cell_type": "markdown",
   "id": "3303787c",
   "metadata": {},
   "source": [
    "#### Q3. What are the key differences in functionality between __getattr__ and __getattribute__, as well as properties and descriptors?\n",
    "**Ans:** \n",
    "\n",
    "The main difference between __getattr__ and __getattribute__ is that if the attribute was not found by the usual way then __getattr__ is used.\n",
    "\n",
    "Whereas the __getattribute__ is used before looking at the actual attributes on the object. You will have to use it more consciously otherwise very easily you can end up in infinite recursions.\n",
    "\n",
    "\n",
    "**`__getattr__`**\n",
    "\n",
    "Lets see some simple examples of both __getattr__ and __getattribute__ magic methods.\n",
    "\n",
    "Python will call __getattr__ method whenever you request an attribute that hasn't already been defined. In the following example my class Count has no __getattr__ method. Now in main when I try to access both obj1.mymin and obj1.mymax attributes everything works fine. But when I try to access obj1.mycurrent attribute -- Python gives me AttributeError: 'Count' object has no attribute 'mycurrent'"
   ]
  },
  {
   "cell_type": "code",
   "execution_count": 10,
   "id": "1f24efa1",
   "metadata": {},
   "outputs": [
    {
     "name": "stdout",
     "output_type": "stream",
     "text": [
      "1\n",
      "10\n"
     ]
    }
   ],
   "source": [
    "class Count():\n",
    "    def __init__(self,mymin,mymax):\n",
    "        self.mymin=mymin\n",
    "        self.mymax=mymax\n",
    "\n",
    "obj1 = Count(1,10)\n",
    "print(obj1.mymin)\n",
    "print(obj1.mymax)\n"
   ]
  },
  {
   "cell_type": "code",
   "execution_count": 11,
   "id": "0679328b",
   "metadata": {},
   "outputs": [
    {
     "ename": "AttributeError",
     "evalue": "'Count' object has no attribute 'mycurrent'",
     "output_type": "error",
     "traceback": [
      "\u001b[1;31m---------------------------------------------------------------------------\u001b[0m",
      "\u001b[1;31mAttributeError\u001b[0m                            Traceback (most recent call last)",
      "\u001b[1;32m~\\AppData\\Local\\Temp/ipykernel_15060/810218889.py\u001b[0m in \u001b[0;36m<module>\u001b[1;34m\u001b[0m\n\u001b[1;32m----> 1\u001b[1;33m \u001b[0mprint\u001b[0m\u001b[1;33m(\u001b[0m\u001b[0mobj1\u001b[0m\u001b[1;33m.\u001b[0m\u001b[0mmycurrent\u001b[0m\u001b[1;33m)\u001b[0m\u001b[1;33m\u001b[0m\u001b[1;33m\u001b[0m\u001b[0m\n\u001b[0m",
      "\u001b[1;31mAttributeError\u001b[0m: 'Count' object has no attribute 'mycurrent'"
     ]
    }
   ],
   "source": [
    "print(obj1.mycurrent)"
   ]
  },
  {
   "cell_type": "markdown",
   "id": "ac8212b0",
   "metadata": {},
   "source": [
    "Now my class Count has __getattr__ method. Now when I try to access obj1.mycurrent attribute -- python returns me whatever I have implemented in my __getattr__ method. In my example whenever I try to call an attribute which doesn't exist, python creates that attribute and sets it to integer value 0."
   ]
  },
  {
   "cell_type": "code",
   "execution_count": 13,
   "id": "d8742a6a",
   "metadata": {},
   "outputs": [
    {
     "name": "stdout",
     "output_type": "stream",
     "text": [
      "1\n",
      "10\n",
      "0\n"
     ]
    }
   ],
   "source": [
    "class Count:\n",
    "    def __init__(self,mymin,mymax):\n",
    "        self.mymin=mymin\n",
    "        self.mymax=mymax    \n",
    "\n",
    "    def __getattr__(self, item):\n",
    "        self.__dict__[item]=0\n",
    "        return 0\n",
    "\n",
    "obj1 = Count(1,10)\n",
    "print(obj1.mymin)\n",
    "print(obj1.mymax)\n",
    "print(obj1.mycurrent)"
   ]
  },
  {
   "cell_type": "markdown",
   "id": "0b595686",
   "metadata": {},
   "source": [
    "**`__getattribute__`**\n",
    "\n",
    "Now lets see the __getattribute__ method. If you have __getattribute__ method in your class, python invokes this method for every attribute regardless whether it exists or not. So why do we need __getattribute__ method? One good reason is that you can prevent access to attributes and make them more secure as shown in the following example.\n",
    "\n",
    "Whenever someone try to access my attributes that starts with substring 'cur' python raises AttributeError exception. Otherwise it returns that attribute."
   ]
  },
  {
   "cell_type": "code",
   "execution_count": 16,
   "id": "351af893",
   "metadata": {},
   "outputs": [
    {
     "name": "stdout",
     "output_type": "stream",
     "text": [
      "1\n",
      "10\n"
     ]
    }
   ],
   "source": [
    "class Count:\n",
    "\n",
    "    def __init__(self,mymin,mymax):\n",
    "        self.mymin=mymin\n",
    "        self.mymax=mymax\n",
    "        self.current=None\n",
    "   \n",
    "    def __getattribute__(self, item):\n",
    "        if item.startswith('cur'):\n",
    "            raise AttributeError\n",
    "        return object.__getattribute__(self,item) \n",
    "\n",
    "obj1 = Count(1,10)\n",
    "print(obj1.mymin)\n",
    "print(obj1.mymax)\n"
   ]
  },
  {
   "cell_type": "code",
   "execution_count": 17,
   "id": "444aabbc",
   "metadata": {},
   "outputs": [
    {
     "ename": "AttributeError",
     "evalue": "",
     "output_type": "error",
     "traceback": [
      "\u001b[1;31m---------------------------------------------------------------------------\u001b[0m",
      "\u001b[1;31mAttributeError\u001b[0m                            Traceback (most recent call last)",
      "\u001b[1;32m~\\AppData\\Local\\Temp/ipykernel_15060/2660087966.py\u001b[0m in \u001b[0;36m<module>\u001b[1;34m\u001b[0m\n\u001b[1;32m----> 1\u001b[1;33m \u001b[0mprint\u001b[0m\u001b[1;33m(\u001b[0m\u001b[0mobj1\u001b[0m\u001b[1;33m.\u001b[0m\u001b[0mcurrent\u001b[0m\u001b[1;33m)\u001b[0m\u001b[1;33m\u001b[0m\u001b[1;33m\u001b[0m\u001b[0m\n\u001b[0m",
      "\u001b[1;32m~\\AppData\\Local\\Temp/ipykernel_15060/3490713345.py\u001b[0m in \u001b[0;36m__getattribute__\u001b[1;34m(self, item)\u001b[0m\n\u001b[0;32m      8\u001b[0m     \u001b[1;32mdef\u001b[0m \u001b[0m__getattribute__\u001b[0m\u001b[1;33m(\u001b[0m\u001b[0mself\u001b[0m\u001b[1;33m,\u001b[0m \u001b[0mitem\u001b[0m\u001b[1;33m)\u001b[0m\u001b[1;33m:\u001b[0m\u001b[1;33m\u001b[0m\u001b[1;33m\u001b[0m\u001b[0m\n\u001b[0;32m      9\u001b[0m         \u001b[1;32mif\u001b[0m \u001b[0mitem\u001b[0m\u001b[1;33m.\u001b[0m\u001b[0mstartswith\u001b[0m\u001b[1;33m(\u001b[0m\u001b[1;34m'cur'\u001b[0m\u001b[1;33m)\u001b[0m\u001b[1;33m:\u001b[0m\u001b[1;33m\u001b[0m\u001b[1;33m\u001b[0m\u001b[0m\n\u001b[1;32m---> 10\u001b[1;33m             \u001b[1;32mraise\u001b[0m \u001b[0mAttributeError\u001b[0m\u001b[1;33m\u001b[0m\u001b[1;33m\u001b[0m\u001b[0m\n\u001b[0m\u001b[0;32m     11\u001b[0m         \u001b[1;32mreturn\u001b[0m \u001b[0mobject\u001b[0m\u001b[1;33m.\u001b[0m\u001b[0m__getattribute__\u001b[0m\u001b[1;33m(\u001b[0m\u001b[0mself\u001b[0m\u001b[1;33m,\u001b[0m\u001b[0mitem\u001b[0m\u001b[1;33m)\u001b[0m\u001b[1;33m\u001b[0m\u001b[1;33m\u001b[0m\u001b[0m\n\u001b[0;32m     12\u001b[0m \u001b[1;33m\u001b[0m\u001b[0m\n",
      "\u001b[1;31mAttributeError\u001b[0m: "
     ]
    }
   ],
   "source": [
    "print(obj1.current)"
   ]
  },
  {
   "cell_type": "markdown",
   "id": "0f189307",
   "metadata": {},
   "source": [
    "Important: In order to avoid infinite recursion in __getattribute__ method, its implementation should always call the base class method with the same name to access any attributes it needs. For example: object.__getattribute__(self, name) or super().__getattribute__(item) and not self.__dict__[item]"
   ]
  },
  {
   "cell_type": "markdown",
   "id": "faa6f127",
   "metadata": {},
   "source": [
    "**IMPORTANT**\n",
    "\n",
    "If your class contain both getattr and getattribute magic methods then __getattribute__ is called first. But if __getattribute__ raises AttributeError exception then the exception will be ignored and __getattr__ method will be invoked. See the following example:"
   ]
  },
  {
   "cell_type": "code",
   "execution_count": 19,
   "id": "d30c0262",
   "metadata": {},
   "outputs": [
    {
     "name": "stdout",
     "output_type": "stream",
     "text": [
      "1\n",
      "10\n",
      "0\n"
     ]
    }
   ],
   "source": [
    "class Count(object):\n",
    "\n",
    "    def __init__(self,mymin,mymax):\n",
    "        self.mymin=mymin\n",
    "        self.mymax=mymax\n",
    "        self.current=None\n",
    "\n",
    "    def __getattr__(self, item):\n",
    "        self.__dict__[item]=0\n",
    "        return 0\n",
    "\n",
    "    def __getattribute__(self, item):\n",
    "        if item.startswith('cur'):\n",
    "            raise AttributeError\n",
    "        return object.__getattribute__(self,item)\n",
    "        # or you can use ---return super().__getattribute__(item)\n",
    "        # note this class subclass object\n",
    "\n",
    "obj1 = Count(1,10)\n",
    "print(obj1.mymin)\n",
    "print(obj1.mymax)\n",
    "print(obj1.current)"
   ]
  },
  {
   "cell_type": "code",
   "execution_count": null,
   "id": "b2a2354e",
   "metadata": {},
   "outputs": [],
   "source": []
  }
 ],
 "metadata": {
  "kernelspec": {
   "display_name": "Python 3 (ipykernel)",
   "language": "python",
   "name": "python3"
  },
  "language_info": {
   "codemirror_mode": {
    "name": "ipython",
    "version": 3
   },
   "file_extension": ".py",
   "mimetype": "text/x-python",
   "name": "python",
   "nbconvert_exporter": "python",
   "pygments_lexer": "ipython3",
   "version": "3.9.7"
  }
 },
 "nbformat": 4,
 "nbformat_minor": 5
}

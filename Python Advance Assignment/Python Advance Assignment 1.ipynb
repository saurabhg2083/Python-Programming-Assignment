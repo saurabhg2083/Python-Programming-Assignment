{
 "cells": [
  {
   "cell_type": "markdown",
   "id": "f539b01e",
   "metadata": {},
   "source": [
    "# Python Advance Assignment 1"
   ]
  },
  {
   "cell_type": "markdown",
   "id": "942401c5",
   "metadata": {},
   "source": [
    "#### Q1. What is the purpose of Python's OOP?\n",
    "**Ans:** Object-oriented Programming (OOPs) is a programming paradigm that uses objects and classes in programming. It aims to implement real-world entities like inheritance, polymorphisms, encapsulation, etc. in the programming. The main concept of OOPs is to bind the data and the functions that work on that together as a single unit so that no other part of the code can access this data.Main Concepts of Object-Oriented Programming (OOPs) \n",
    "\n",
    "* Class\n",
    "* Objects\n",
    "* Polymorphism\n",
    "* Encapsulation\n",
    "* Inheritance\n",
    "* Data Abstraction\n",
    "\n",
    "###### Advantages:\n",
    "* It is more secure\n",
    "* It is a bottom-up approach\n",
    "* Program is divided into objects (easy maintenance and modification)\n",
    "\n"
   ]
  },
  {
   "cell_type": "markdown",
   "id": "7cfcf3e9",
   "metadata": {},
   "source": [
    "#### Q2. Where does an inheritance search look for an attribute?\n",
    "**Ans:** An inheritance search looks for an attribute first in the instance object, then in the class the instance was created from, then in all higher superclasses, progressing from left to right (by default). The search stops at the first place the attribute is found."
   ]
  },
  {
   "cell_type": "markdown",
   "id": "096d7b0b",
   "metadata": {},
   "source": [
    "#### Q3. How do you distinguish between a class object and an instance object?\n",
    "**Ans:** \n",
    "Class Object: A class object is an object that represents the class itself, rather than an instance of the class.\n",
    "Instance Object: An instance object is an object that is created from a class. Each instance of a class has its own set of attributes and methods that are independent of other instances of the same class.\n",
    "\n",
    "**Differences**\n",
    "\n",
    "Class objects represent the class itself, while instance objects represent individual instances of the class.\n",
    "\n",
    "Class objects can have class-level attributes and methods that are shared among all instances of the class, while instance objects have their own set of attributes and methods that are independent of other"
   ]
  },
  {
   "cell_type": "markdown",
   "id": "fd8cc6bc",
   "metadata": {},
   "source": [
    "#### Q4. What makes the first argument in a class’s method function special?\n",
    "**Ans:** A class method is similar to an instance method, but it has a class object passed as its first argument. Recall that, when an instance method is called from an instance object, that instance object is automatically passed as the first argument to the method.\n",
    "Here we will encounter three varieties of methods:\n",
    "* instance methods\n",
    "* class methods\n",
    "* static methods\n",
    "* `self` is the first argument for instance methods."
   ]
  },
  {
   "cell_type": "markdown",
   "id": "94de0426",
   "metadata": {},
   "source": [
    "#### Q5. What is the purpose of the __init__ method?\n",
    "**Ans:** **`__init__`** is a reseved method in python classes. It serves the role of a **constructor** in object oriented terminology. This method is called when an object is created from a class and it allows the class to initialize the attributes of the class"
   ]
  },
  {
   "cell_type": "markdown",
   "id": "3e47943f",
   "metadata": {},
   "source": [
    "#### Q6. What is the process for creating a class instance?\n",
    "**Ans:** To create instances of a class, you call the class using class name and pass in whatever arguments its `__init__` method accepts.\n",
    "\n",
    "Example:\n",
    "\n",
    "emp1 = Employee(\"Zara\", 20000)\n",
    "\n",
    "Here `emp1` is an instance of class `Employee` with attributes name and salary"
   ]
  },
  {
   "cell_type": "markdown",
   "id": "8ddf33a9",
   "metadata": {},
   "source": [
    "#### Q7. What is the process for creating a class?\n",
    "**Ans:** A class is a code template for creating objects. Objects have member variables and have behaviour associated with them. In python a class is created by the keyword class.\n",
    "\n",
    "An object is created using the constructor of the class. This object will then be called the instance of the class. In Python we create instances in the following manner\n",
    "\n",
    "Instance = class(arguments)\n",
    "\n",
    "\n",
    "class Snake:\n",
    "    pass\n",
    "\n",
    "snake = Snake()\n",
    "\n",
    "print(snake)\n",
    "\n",
    "<__main__.Snake object at 0x7f315c573550>"
   ]
  },
  {
   "cell_type": "markdown",
   "id": "b58c55d6",
   "metadata": {},
   "source": [
    "#### Q8. How would you define the superclasses of a class?\n",
    "**Ans** The class from which a class inherits is called the parent or superclass. A class which inherits from a superclass is called a subclass, also called heir class or child class. Superclasses are sometimes called ancestors as well. There exists a hierarchical relationship between classes.\n",
    "\n",
    "Example:\n",
    "\n",
    "class Employee(Person): \n",
    "    pass\n",
    "    \n",
    "Here child class `Employee` inherits attributes and methods from Superclass/Parent `Person`"
   ]
  },
  {
   "cell_type": "code",
   "execution_count": null,
   "id": "c8199876",
   "metadata": {},
   "outputs": [],
   "source": []
  }
 ],
 "metadata": {
  "kernelspec": {
   "display_name": "Python 3 (ipykernel)",
   "language": "python",
   "name": "python3"
  },
  "language_info": {
   "codemirror_mode": {
    "name": "ipython",
    "version": 3
   },
   "file_extension": ".py",
   "mimetype": "text/x-python",
   "name": "python",
   "nbconvert_exporter": "python",
   "pygments_lexer": "ipython3",
   "version": "3.9.7"
  }
 },
 "nbformat": 4,
 "nbformat_minor": 5
}

{
 "cells": [
  {
   "cell_type": "markdown",
   "id": "73b3a980",
   "metadata": {},
   "source": [
    "# Python Advance Assignment 15"
   ]
  },
  {
   "cell_type": "markdown",
   "id": "02d9ed9f",
   "metadata": {},
   "source": [
    "#### 1.\tWhat are the new features added in Python 3.8 version?\n",
    "**Ans:** Some New Features Added in Python 3.8 Version are:\n",
    "\n",
    "* Assignment expressions: There is new syntax := that assigns values to variables as part of a larger expression. It is affectionately known as “the walrus operator”\n",
    "\n",
    "    if (n := len(a)) > 10:\n",
    "        print(f\"List is too long ({n} elements, expected <= 10)\")\n",
    "\n",
    "* Positional-only parameters: There is a new function parameter syntax / to indicate that some function parameters must be specified positionally and cannot be used as keyword arguments. This is the same notation shown by help() for C functions annotated with Larry Hastings’ Argument Clinic tool.\n",
    "\n",
    "    def f(a, b, /, **kwargs):\n",
    "        print(a, b, kwargs)\n",
    "\n",
    "    f(10, 20, a=1, b=2, c=3)  # a and b are used in two ways\n",
    "    Output: 10 20 {'a': 1, 'b': 2, 'c': 3}\n",
    "\n",
    "\n",
    "\n",
    "* Parallel filesystem cache for compiled bytecode files:\n",
    "    The new PYTHONPYCACHEPREFIX setting (also available as -X pycache_prefix) configures the implicit bytecode cache to use a separate parallel filesystem tree, rather than the default __pycache__ subdirectories within each source directory. The location of the cache is reported in sys.pycache_prefix (None indicates the default location in __pycache__ subdirectories).\n",
    "    \n",
    "    \n",
    "* f-strings support = for self-documenting expressions and debugging:\n",
    "    \n",
    "    user = 'eric_idle'\n",
    "    \n",
    "    member_since = date(1975, 7, 31)\n",
    "    \n",
    "    f'{user=} {member_since=}'\n",
    "    \n",
    "    \"user='eric_idle' member_since=datetime.date(1975, 7, 31)\"\n",
    "    \n",
    "* New functions:\n",
    "\n",
    "    PyConfig_Clear()\n",
    "\n",
    "    PyConfig_InitIsolatedConfig()\n",
    "\n",
    "    PyConfig_InitPythonConfig()\n",
    "\n",
    "    PyConfig_Read()\n",
    "\n",
    "    PyConfig_SetArgv()\n",
    "\n",
    "    PyConfig_SetBytesArgv()\n",
    "\n",
    "    PyConfig_SetBytesString()\n",
    "\n",
    "    PyConfig_SetString()\n",
    "\n",
    "    PyPreConfig_InitIsolatedConfig()\n",
    "\n",
    "    PyPreConfig_InitPythonConfig()\n",
    "\n",
    "    PyStatus_Error()\n",
    "\n",
    "    PyStatus_Exception()\n",
    "\n",
    "    PyStatus_Exit()\n",
    "\n",
    "    PyStatus_IsError()\n",
    "\n",
    "    PyStatus_IsExit()\n",
    "\n",
    "    PyStatus_NoMemory()\n",
    "\n",
    "    PyStatus_Ok()\n",
    "\n",
    "    PyWideStringList_Append()\n",
    "\n",
    "    PyWideStringList_Insert()\n",
    "\n",
    "    Py_BytesMain()\n",
    "\n",
    "    Py_ExitStatusException()\n",
    "\n",
    "    Py_InitializeFromConfig()\n",
    "\n",
    "    Py_PreInitialize()\n",
    "\n",
    "    Py_PreInitializeFromArgs()\n",
    "\n",
    "    Py_PreInitializeFromBytesArgs()\n",
    "\n",
    "    Py_RunMain()\n",
    "\n",
    "\n",
    "* Pickle protocol 5 with out-of-band data buffers: When pickle is used to transfer large data between Python processes in order to take advantage of multi-core or multi-machine processing, it is important to optimize the transfer by reducing memory copies, and possibly by applying custom techniques such as data-dependent compression. The pickle protocol 5 introduces support for out-of-band buffers where PEP 3118-compatible data can be transmitted separately from the main pickle stream, at the discretion of the communication layer.\n",
    "\n",
    "* asyncio: asyncio.run() has graduated from the provisional to stable API. This function can be used to execute a coroutine and return the result while automatically managing the event loop. For example:\n",
    "\n",
    "    import asyncio\n",
    "\n",
    "    async def main():\n",
    "    \n",
    "        await asyncio.sleep(0)\n",
    "        \n",
    "        return 42\n",
    "\n",
    "    asyncio.run(main())\n",
    "\n",
    "\n",
    "And many more new features\n"
   ]
  },
  {
   "cell_type": "markdown",
   "id": "9b49a548",
   "metadata": {},
   "source": [
    "#### 2.\tWhat is monkey patching in Python?\n",
    "**Ans:** Monkey patching in python refers to modifying or updating a piece of code or class or any module at the runtime. In simple words, we can change the behavior or working of a class/ module at the runtime without changing the whole python code."
   ]
  },
  {
   "cell_type": "code",
   "execution_count": 22,
   "id": "ee6fa7d3",
   "metadata": {},
   "outputs": [
    {
     "name": "stdout",
     "output_type": "stream",
     "text": [
      "monkey_f() is being called\n"
     ]
    }
   ],
   "source": [
    "class A:\n",
    "    def func(self):\n",
    "        print(\"func() is being called\")\n",
    "\n",
    "def monkey_f(self):\n",
    "    print(\"monkey_f() is being called\")\n",
    "\n",
    "A.func = monkey_f\n",
    "some_object = A()\n",
    "some_object.func()"
   ]
  },
  {
   "cell_type": "markdown",
   "id": "430104b8",
   "metadata": {},
   "source": [
    "#### 3.\tWhat is the difference between a shallow copy and deep copy?\n",
    "**Ans:**\n",
    "\n",
    "When an object is copied using `copy()`, it is called shallow copy as changes made in copied object will also make corresponding changes in original object, because both the objects\n",
    "will be referencing same address location. \n",
    "\n",
    "When an object is copied using `deepcopy()`, it is called deep copy as changes made in copied object will not make corresponding changes in original object, because both the objects will not be referencing same address location. "
   ]
  },
  {
   "cell_type": "code",
   "execution_count": 4,
   "id": "c0f56936",
   "metadata": {},
   "outputs": [
    {
     "name": "stdout",
     "output_type": "stream",
     "text": [
      "[1, 2, [3, 4], 5, 6]\n",
      "[1, 2, [3, 4], 5, 6]\n",
      "[1, 2, [3, 4], 5, 6]\n",
      "\n",
      "[11, 2, [3, 4], 5, 6]\n",
      "\n",
      "[1, 12, [3, 4], 5, 6]\n",
      "[1, 12, [3, 4], 5, 6]\n"
     ]
    }
   ],
   "source": [
    "from copy import deepcopy, copy\n",
    "l1 = [1,2,[3,4],5,6]\n",
    "l2 = deepcopy(l1)\n",
    "l3 = l1\n",
    "print(l1)\n",
    "print(l2)\n",
    "print(l3)\n",
    "print()\n",
    "\n",
    "l2[0] = 11\n",
    "print(l2)\n",
    "print()\n",
    "\n",
    "# changes main list\n",
    "l1[1] = 12\n",
    "print(l3)\n",
    "print(l1)"
   ]
  },
  {
   "cell_type": "markdown",
   "id": "b6b51b48",
   "metadata": {},
   "source": [
    "#### 4.\tWhat is the maximum possible length of an identifier?\n",
    "**Ans:** An identifier can have a maximum length of 79 characters in Python."
   ]
  },
  {
   "cell_type": "markdown",
   "id": "726679fd",
   "metadata": {},
   "source": [
    "#### 5.\tWhat is generator comprehension?\n",
    "**Ans:** \n",
    "\n",
    "A generator comprehension is a single-line specification for defining a generator in Python. \n",
    "\n",
    "The syntax for set comprehension is: generator= (expression for element in iterable if condition)"
   ]
  },
  {
   "cell_type": "code",
   "execution_count": 8,
   "id": "bf6781e1",
   "metadata": {},
   "outputs": [
    {
     "name": "stdout",
     "output_type": "stream",
     "text": [
      "[0, 1, 2, 3, 4, 5, 6, 7, 8, 9]\n"
     ]
    }
   ],
   "source": [
    "# List Comprehension\n",
    "in_list = [x for x in range(10)]\n",
    "print(in_list)"
   ]
  },
  {
   "cell_type": "code",
   "execution_count": 7,
   "id": "6829b1b6",
   "metadata": {},
   "outputs": [
    {
     "name": "stdout",
     "output_type": "stream",
     "text": [
      "1\n",
      "2\n",
      "3\n",
      "4\n",
      "5\n",
      "6\n",
      "7\n",
      "8\n",
      "9\n",
      "10\n"
     ]
    }
   ],
   "source": [
    "# Generator Comprehension\n",
    "def num_generator():\n",
    "    for i in range(1, 11):\n",
    "        yield i\n",
    "\n",
    "gen = num_generator()\n",
    "for element in gen:\n",
    "    print(element)"
   ]
  },
  {
   "cell_type": "code",
   "execution_count": 9,
   "id": "8d1ff925",
   "metadata": {},
   "outputs": [
    {
     "name": "stdout",
     "output_type": "stream",
     "text": [
      "The given list is: [1, 2, 3, 4, 5, 6, 7, 8, 9, 10]\n",
      "Elements obtained from the generator are:\n",
      "1\n",
      "4\n",
      "9\n",
      "16\n",
      "25\n",
      "36\n",
      "49\n",
      "64\n",
      "81\n",
      "100\n"
     ]
    }
   ],
   "source": [
    "myList = [1, 2, 3, 4, 5, 6, 7, 8, 9, 10]\n",
    "print(\"The given list is:\",myList)\n",
    "mygen = (element**2 for element in myList)\n",
    "print(\"Elements obtained from the generator are:\")\n",
    "for ele in mygen:\n",
    "    print(ele)"
   ]
  },
  {
   "cell_type": "code",
   "execution_count": null,
   "id": "a213d339",
   "metadata": {},
   "outputs": [],
   "source": []
  }
 ],
 "metadata": {
  "kernelspec": {
   "display_name": "Python 3 (ipykernel)",
   "language": "python",
   "name": "python3"
  },
  "language_info": {
   "codemirror_mode": {
    "name": "ipython",
    "version": 3
   },
   "file_extension": ".py",
   "mimetype": "text/x-python",
   "name": "python",
   "nbconvert_exporter": "python",
   "pygments_lexer": "ipython3",
   "version": "3.9.7"
  }
 },
 "nbformat": 4,
 "nbformat_minor": 5
}

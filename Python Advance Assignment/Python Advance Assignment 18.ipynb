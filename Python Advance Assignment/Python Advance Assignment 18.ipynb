{
 "cells": [
  {
   "cell_type": "markdown",
   "id": "22800d6c",
   "metadata": {},
   "source": [
    "# Python Advance Assignment 18"
   ]
  },
  {
   "cell_type": "markdown",
   "id": "fcd9b173",
   "metadata": {},
   "source": [
    "#### Q1. Describe the differences between text and binary files in a single paragraph.\n",
    "**Ans:** \n",
    "\n",
    "There are mainly two types of data files — text file and binary file. A text file consists of human readable characters, which can be opened by any text editor. On the other hand, binary files are made up of non-human readable characters and symbols, which require specific programs to access its contents."
   ]
  },
  {
   "cell_type": "markdown",
   "id": "3e363a3b",
   "metadata": {},
   "source": [
    "#### Q2. What are some scenarios where using text files will be the better option? When would you like to use binary files instead of text files?\n",
    "**Ans:** It depends a lot on the data.\n",
    "\n",
    "For many types of data, binary representations are much more space-efficient. For instance, you could represent an image as a text file. But any color represented as a 24-bit RGB value in a binary file has to be represented as a six-character code (e.g. FFFFFF for white) in text, which is literally twice as many bits.\n",
    "\n",
    "Another reason for using binary formats is that they can map directly onto the internal representation of the data that the program is using. If my program uses a complex data structure that’s full of integer, float, and byte values, when I read it in from a text file I have to parse every character of text and interpret it, spending processing time (and writing logic) to figure how to convert the 88 bits in “2983102931,” into the 32-bit integer that the text represents. If I read it from a binary file, the program just copies those 32 bits from the file into memory.\n",
    "\n",
    "On the other hand, text files are binary. It’s not an either/or.\n",
    "\n",
    "To give an example, a file encoded as UTF-8 looks like text when you open it in a modern editor, even if it contains Anharic, Hangul, or emojis, That’s what we call “text” today. But open the file in an old editor, one from back when we defined text as one byte = one character, and you’ll see a lot of garbage.\n",
    "\n",
    "In UTF-8, a character may be one, two, three, or four bytes, depending on the Unicode code point that the bytes map to. This is a case of the binary format in the file representing the raw format that the program (the modern text editor) uses."
   ]
  },
  {
   "cell_type": "markdown",
   "id": "79fabe8b",
   "metadata": {},
   "source": [
    "#### Q3. What are some of the issues with using binary operations to read and write a Python integer directly to disc?\n",
    "**Ans:** The read method returns a sequence of bytes as a string. To convert from a string byte-sequence to binary data, use the built-in struct. Binary operations deal with raw data and need to identify how many bytes one would read or write.\n"
   ]
  },
  {
   "cell_type": "code",
   "execution_count": 7,
   "id": "6be45d28",
   "metadata": {},
   "outputs": [
    {
     "name": "stdout",
     "output_type": "stream",
     "text": [
      "(169478669,)\n"
     ]
    }
   ],
   "source": [
    "import struct\n",
    "\n",
    "fin = open(\"hi.png\", \"rb\")\n",
    "firm = fin.read(2)\n",
    "file_size = int.from_bytes(fin.read(2), byteorder='big')\n",
    "\n",
    "print(struct.unpack('i', fin.read(4)))"
   ]
  },
  {
   "cell_type": "markdown",
   "id": "96674fa6",
   "metadata": {},
   "source": [
    "#### Q4. Describe a benefit of using the with keyword instead of explicitly opening a file ?\n",
    "**Ans:** \n",
    "\n",
    "with open(__file__, 'r') as f:\n",
    "    \n",
    "    pass\n",
    "\n",
    "Using with means that the file will be closed as soon as you leave the block. This is beneficial because closing a file is something that can easily be forgotten and ties up resources that you no longer need."
   ]
  },
  {
   "cell_type": "markdown",
   "id": "7ec11be2",
   "metadata": {},
   "source": [
    "#### Q5. Does Python have the trailing newline while reading a line of text? Does Python append a newline when you write a line of text?\n",
    "**Ans:** Yes, Python have the trailing newline while reading a line of text. When we write a newline has to be provided in python excpicitly.\n",
    "\n",
    "Python readline() method reads only one complete line from the file given. It appends a newline (“\\n”) at the end of the line.\n",
    "\n",
    "with open(filename, 'r') as fileobj:\n",
    "\n",
    "    for row in fileobj:    \n",
    "        print(row.rstrip('\\n'))"
   ]
  },
  {
   "cell_type": "markdown",
   "id": "8d433ac7",
   "metadata": {},
   "source": [
    "#### Q6. What file operations enable for random-access operation?\n",
    "**Ans:** `seek()` and `tell()`"
   ]
  },
  {
   "cell_type": "markdown",
   "id": "6e521586",
   "metadata": {},
   "source": [
    "#### Q7. When do you think you'll use the struct package the most?\n",
    "**Ans:** It is used mostly for handling binary data stored in files or from network connections, among other sources.\n"
   ]
  },
  {
   "cell_type": "code",
   "execution_count": 8,
   "id": "11189552",
   "metadata": {},
   "outputs": [
    {
     "name": "stdout",
     "output_type": "stream",
     "text": [
      "(169478669,)\n"
     ]
    }
   ],
   "source": [
    "import struct\n",
    "\n",
    "fin = open(\"hi.png\", \"rb\")\n",
    "firm = fin.read(2)\n",
    "file_size = int.from_bytes(fin.read(2), byteorder='big')\n",
    "\n",
    "print(struct.unpack('i', fin.read(4)))"
   ]
  },
  {
   "cell_type": "markdown",
   "id": "9609ec3f",
   "metadata": {},
   "source": [
    "#### Q8. When is pickling the best option?\n",
    "**Ans:** The Python pickle module is a better choice for all the remaining use cases. If you don't need a human-readable format or a standard interoperable format, or if you need to serialize custom objects, then go with pickle ."
   ]
  },
  {
   "cell_type": "markdown",
   "id": "98b90ed9",
   "metadata": {},
   "source": [
    "#### Q9. When will it be best to use the shelve package?\n",
    "**Ans:** The shelve module in Python's standard library is a simple yet effective tool for persistent data storage when using a relational database solution is not required. The shelf object defined in this module is dictionary-like object which is persistently stored in a disk file. Shelve package is used to pickle data but  treats the entire file as dictionary."
   ]
  },
  {
   "cell_type": "markdown",
   "id": "a4ad2a21",
   "metadata": {},
   "source": [
    "#### Q10. What is a special restriction when using the shelve package, as opposed to using other data dictionaries?\n",
    "**Ans:** The shelf dictionary has certain restrictions. Only string data type can be used as key in this special dictionary object, whereas any picklable Python object can be used as value."
   ]
  },
  {
   "cell_type": "code",
   "execution_count": null,
   "id": "44baef84",
   "metadata": {},
   "outputs": [],
   "source": []
  }
 ],
 "metadata": {
  "kernelspec": {
   "display_name": "Python 3 (ipykernel)",
   "language": "python",
   "name": "python3"
  },
  "language_info": {
   "codemirror_mode": {
    "name": "ipython",
    "version": 3
   },
   "file_extension": ".py",
   "mimetype": "text/x-python",
   "name": "python",
   "nbconvert_exporter": "python",
   "pygments_lexer": "ipython3",
   "version": "3.9.7"
  }
 },
 "nbformat": 4,
 "nbformat_minor": 5
}

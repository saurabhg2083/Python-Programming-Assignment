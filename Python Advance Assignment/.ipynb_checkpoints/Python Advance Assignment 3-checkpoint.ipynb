{
 "cells": [
  {
   "cell_type": "markdown",
   "id": "55846da8",
   "metadata": {},
   "source": [
    "# Python Advance Assignment 3"
   ]
  },
  {
   "cell_type": "markdown",
   "id": "6d38e68b",
   "metadata": {},
   "source": [
    "#### 1. What is the concept of an abstract superclass?\n",
    "**Ans:** An abstract class in Python is typically created to declare a set of methods that must be created in any child class built on top of this abstract class. Similarly, an abstract method is one that doesn't have any implementation. An abstract class/superclass can be considered as a blueprint for other classes. It allows you to create a set of methods that must be created within any child classes built from the abstract class. A class which contains one or more abstract methods is called an abstract class. Whereas an abstract method is a method that has a declaration but does not have an implementation"
   ]
  },
  {
   "cell_type": "code",
   "execution_count": 3,
   "id": "00e14ca4",
   "metadata": {},
   "outputs": [
    {
     "name": "stdout",
     "output_type": "stream",
     "text": [
      "I have 3 sides\n",
      "I have 5 sides\n"
     ]
    }
   ],
   "source": [
    "from abc import ABC, abstractmethod\n",
    "\n",
    "class Polygon(ABC):\n",
    "    @abstractmethod\n",
    "    def noofsides(self):\n",
    "        pass\n",
    "    \n",
    "class Triangle(Polygon):\n",
    "    def noofsides(self):\n",
    "        print(\"I have 3 sides\")\n",
    "        \n",
    "class Pentagon(Polygon):\n",
    "    def noofsides(self):\n",
    "        print(\"I have 5 sides\")\n",
    "        \n",
    "R = Triangle()\n",
    "R.noofsides()\n",
    " \n",
    "R = Pentagon()\n",
    "R.noofsides()"
   ]
  },
  {
   "cell_type": "markdown",
   "id": "e4a49a25",
   "metadata": {},
   "source": [
    "#### 2. What happens when a class statement's top level contains a basic assignment statement?\n",
    "**Ans:** Its usually treated as a class attribute or class level variable. "
   ]
  },
  {
   "cell_type": "code",
   "execution_count": 4,
   "id": "c5d88b4d",
   "metadata": {},
   "outputs": [],
   "source": [
    "class Person:\n",
    "    species = 'Homesapiens'\n",
    "    def __init__(self,name,gender):\n",
    "        self.name = name\n",
    "        self.gender = gender"
   ]
  },
  {
   "cell_type": "markdown",
   "id": "beb231b3",
   "metadata": {},
   "source": [
    "#### 3. Why does a class need to manually call a superclass's __init__ method?\n",
    "**Ans:** If a child class has __init__ method, then it will not inherit the __init__ method of the parent class. in other words the __init__ method of the child class overrides the __init__ method of the parent class. so we have to manually call a parent superclass's __init__ using super() method"
   ]
  },
  {
   "cell_type": "code",
   "execution_count": 5,
   "id": "d30162f0",
   "metadata": {},
   "outputs": [
    {
     "name": "stdout",
     "output_type": "stream",
     "text": [
      "{'name': 'Saurabh', 'age': 39, 'salary': 150000}\n"
     ]
    }
   ],
   "source": [
    "class Person:\n",
    "    def __init__(self,name,age):\n",
    "        self.name = name\n",
    "        self.age = age    \n",
    "        \n",
    "class Employee(Person):\n",
    "    def __init__(self,name,age,salary):\n",
    "        super().__init__(name,age)\n",
    "        self.salary = salary\n",
    "        \n",
    "emp_1 = Employee('Saurabh',39,150000)\n",
    "print(emp_1.__dict__)"
   ]
  },
  {
   "cell_type": "markdown",
   "id": "f7468111",
   "metadata": {},
   "source": [
    "#### 4. How can you augment, instead of completely replacing, an inherited method?\n",
    "**Ans:** super() method can be used to augment, instead of completely replacing, an inherited method."
   ]
  },
  {
   "cell_type": "code",
   "execution_count": 6,
   "id": "437bf527",
   "metadata": {},
   "outputs": [
    {
     "name": "stdout",
     "output_type": "stream",
     "text": [
      "{'name': 'Saurabh', 'gender': 'Male', 'salary': 150000}\n"
     ]
    }
   ],
   "source": [
    "class Person:\n",
    "    def __init__(self,name,gender):\n",
    "        self.name = name\n",
    "        self.gender = gender\n",
    "        \n",
    "class Employee(Person):\n",
    "    def __init__(self,name,gender,salary):\n",
    "        super().__init__(name,gender) \n",
    "        self.salary = salary\n",
    "        \n",
    "emp_1 = Employee('Saurabh','Male',150000)\n",
    "print(emp_1.__dict__)       "
   ]
  },
  {
   "cell_type": "markdown",
   "id": "16559793",
   "metadata": {},
   "source": [
    "#### 5. How is the local scope of a class different from that of a function?\n",
    "**Ans:** A Variable which is defined inside a function is local to that function. it is accesible from the point at which it is defined until the end of the function, and exists for as long as the function is existing.\n",
    "\n",
    "Similary a variable inside of a class also has a local variable scope. Variables which are defined in the class body (but outside all methods) are called as class level variables or class attributes. they can be referenced by there bare names within the same scope, but they can also be accessed from outside this scope if we use the attribute access operator `(.)`. on a class or an instance of the class."
   ]
  },
  {
   "cell_type": "code",
   "execution_count": 10,
   "id": "1d9896b9",
   "metadata": {},
   "outputs": [
    {
     "name": "stdout",
     "output_type": "stream",
     "text": [
      "You're name is Saurabh\n",
      "Name varible is not available outside hello function scope\n",
      "Home Sapines\n",
      "Home Sapines\n"
     ]
    }
   ],
   "source": [
    "def hello(name):\n",
    "    name = name\n",
    "    print(f'You\\'re name is {name}')\n",
    "hello('Saurabh')\n",
    "\n",
    "try:\n",
    "    name\n",
    "except NameError:\n",
    "    print('Name varible is not available outside hello function scope')\n",
    "\n",
    "class Person:\n",
    "    species = \"Home Sapines\"\n",
    "    def __init__(self):\n",
    "        pass\n",
    "    \n",
    "print(Person.species)\n",
    "Male = Person()\n",
    "print(Male.species)"
   ]
  },
  {
   "cell_type": "code",
   "execution_count": null,
   "id": "6dce502c",
   "metadata": {},
   "outputs": [],
   "source": []
  }
 ],
 "metadata": {
  "kernelspec": {
   "display_name": "Python 3 (ipykernel)",
   "language": "python",
   "name": "python3"
  },
  "language_info": {
   "codemirror_mode": {
    "name": "ipython",
    "version": 3
   },
   "file_extension": ".py",
   "mimetype": "text/x-python",
   "name": "python",
   "nbconvert_exporter": "python",
   "pygments_lexer": "ipython3",
   "version": "3.9.7"
  }
 },
 "nbformat": 4,
 "nbformat_minor": 5
}

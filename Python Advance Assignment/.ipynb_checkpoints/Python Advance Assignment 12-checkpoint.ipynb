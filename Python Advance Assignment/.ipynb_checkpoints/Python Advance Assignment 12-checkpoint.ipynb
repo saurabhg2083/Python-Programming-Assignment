{
 "cells": [
  {
   "cell_type": "markdown",
   "id": "b7b2ee9a",
   "metadata": {},
   "source": [
    "# Python Advance Assignment 12"
   ]
  },
  {
   "cell_type": "markdown",
   "id": "096440ca",
   "metadata": {},
   "source": [
    "#### Q1. Does assigning a value to a string's indexed character violate Python's string immutability ?\n",
    "**Ans:**  StringStrings are immutable \n",
    "\n",
    "Example: "
   ]
  },
  {
   "cell_type": "code",
   "execution_count": 2,
   "id": "41fa2da0",
   "metadata": {},
   "outputs": [
    {
     "name": "stdout",
     "output_type": "stream",
     "text": [
      "2663157696880\n"
     ]
    }
   ],
   "source": [
    "name = \"Saurabh\"  \n",
    "print(id(name))"
   ]
  },
  {
   "cell_type": "code",
   "execution_count": 3,
   "id": "d398efb3",
   "metadata": {},
   "outputs": [
    {
     "ename": "TypeError",
     "evalue": "'str' object does not support item assignment",
     "output_type": "error",
     "traceback": [
      "\u001b[1;31m---------------------------------------------------------------------------\u001b[0m",
      "\u001b[1;31mTypeError\u001b[0m                                 Traceback (most recent call last)",
      "\u001b[1;32m~\\AppData\\Local\\Temp/ipykernel_11404/805205396.py\u001b[0m in \u001b[0;36m<module>\u001b[1;34m\u001b[0m\n\u001b[1;32m----> 1\u001b[1;33m \u001b[0mname\u001b[0m\u001b[1;33m[\u001b[0m\u001b[1;36m0\u001b[0m\u001b[1;33m]\u001b[0m \u001b[1;33m=\u001b[0m \u001b[1;34m\"K\"\u001b[0m\u001b[1;33m\u001b[0m\u001b[1;33m\u001b[0m\u001b[0m\n\u001b[0m",
      "\u001b[1;31mTypeError\u001b[0m: 'str' object does not support item assignment"
     ]
    }
   ],
   "source": [
    "name[0] = \"K\""
   ]
  },
  {
   "cell_type": "markdown",
   "id": "b16a1f3f",
   "metadata": {},
   "source": [
    "#### Q2. Does using the += operator to concatenate strings violate Python's string immutability? Why or why not ?\n",
    "**Ans:** += operator is use to concatenate strings and it does not violate Python's string immutability"
   ]
  },
  {
   "cell_type": "code",
   "execution_count": 18,
   "id": "85e75136",
   "metadata": {},
   "outputs": [
    {
     "name": "stdout",
     "output_type": "stream",
     "text": [
      "Dog eats treats\n",
      "---------\n",
      "Dogeatstreats\n",
      "---------\n",
      "Dog eats treats\n"
     ]
    }
   ],
   "source": [
    "a = \"Dog\"\n",
    "b = \"eats\"\n",
    "c = \"treats\"\n",
    "\n",
    "print (a, b, c)\n",
    "print(\"---------\")\n",
    "\n",
    "\n",
    "b += c\n",
    "a += b\n",
    "print(a)\n",
    "print(\"---------\")\n",
    "\n",
    "\n",
    "a = \"Dog\"\n",
    "b = \"eats\"\n",
    "c = \"treats\"\n",
    "\n",
    "b += \" \" + c\n",
    "a += \" \" + b\n",
    "print(a)"
   ]
  },
  {
   "cell_type": "markdown",
   "id": "76ec588b",
   "metadata": {},
   "source": [
    "#### Q3. In Python, how many different ways are there to index a character?\n",
    "**Ans:** "
   ]
  },
  {
   "cell_type": "code",
   "execution_count": 33,
   "id": "8b363c3b",
   "metadata": {},
   "outputs": [
    {
     "name": "stdout",
     "output_type": "stream",
     "text": [
      "u l e\n",
      "e i c\n",
      "iNeuron Full\n",
      "Scienc\n"
     ]
    }
   ],
   "source": [
    "inp_string = \"iNeuron Full Stack Data Science\"\n",
    "print(inp_string[9],inp_string[10],inp_string[2])\n",
    "print(inp_string[-1],inp_string[-5],inp_string[-2])\n",
    "print(inp_string[0:12])\n",
    "print(inp_string[-7:-1])"
   ]
  },
  {
   "cell_type": "markdown",
   "id": "c3b59e35",
   "metadata": {},
   "source": [
    "#### Q4. What is the relationship between indexing and slicing?\n",
    "**Ans:** Indexing is used to obtaining individual element while slicing for sequence of elements"
   ]
  },
  {
   "cell_type": "code",
   "execution_count": 35,
   "id": "1da25970",
   "metadata": {},
   "outputs": [
    {
     "name": "stdout",
     "output_type": "stream",
     "text": [
      "N u o\n",
      "Neuron Full St\n"
     ]
    }
   ],
   "source": [
    "inp_string = \"iNeuron Full Stack Data Science\"\n",
    "print(inp_string[1],inp_string[3],inp_string[5]) # this is indexing\n",
    "print(inp_string[1:15]) # This is Slicing"
   ]
  },
  {
   "cell_type": "markdown",
   "id": "a942747b",
   "metadata": {},
   "source": [
    "#### Q5. What is an indexed character's exact data type? What is the data form of a slicing-generated substring?\n",
    "**Ans:** both have datatype String"
   ]
  },
  {
   "cell_type": "code",
   "execution_count": 36,
   "id": "20fe9f03",
   "metadata": {},
   "outputs": [
    {
     "name": "stdout",
     "output_type": "stream",
     "text": [
      "<class 'str'>\n",
      "<class 'str'>\n"
     ]
    }
   ],
   "source": [
    "inp_string = \"iNeuron Full Stack Data Science\"\n",
    "print(type(inp_string[3])) # Indexing -> str\n",
    "print(type(inp_string[1:10])) # Indexing -> str"
   ]
  },
  {
   "cell_type": "markdown",
   "id": "2b61703e",
   "metadata": {},
   "source": [
    "#### Q6. What is the relationship between string and character \"types\" in Python?\n",
    "**Ans:** Sequence of character is called as String."
   ]
  },
  {
   "cell_type": "markdown",
   "id": "7c5362fc",
   "metadata": {},
   "source": [
    "#### Q7. Identify at least two operators & one method that allow you to combine one or more smaller strings to create a larger string ?\n",
    "**Ans:** **`+`**, **`+=`** and **`*`** allow to combine one or more smaller strings to create a larger string. **`<string>.join(<sep>)`** method joins element of iterable type like list and tuple to get a combined string. "
   ]
  },
  {
   "cell_type": "code",
   "execution_count": 40,
   "id": "064b196f",
   "metadata": {},
   "outputs": [
    {
     "name": "stdout",
     "output_type": "stream",
     "text": [
      "Saurabh Gupta -(SG)\n"
     ]
    }
   ],
   "source": [
    "in_string = 'Saurabh '\n",
    "in_string += 'Gupta'\n",
    "print(in_string + ' -(SG)')\n"
   ]
  },
  {
   "cell_type": "code",
   "execution_count": 39,
   "id": "465b47be",
   "metadata": {},
   "outputs": [
    {
     "name": "stdout",
     "output_type": "stream",
     "text": [
      "FSDS FSDS FSDS \n"
     ]
    }
   ],
   "source": [
    "print('SG '*3)\n"
   ]
  },
  {
   "cell_type": "code",
   "execution_count": 41,
   "id": "3bc7c7f5",
   "metadata": {},
   "outputs": [
    {
     "name": "stdout",
     "output_type": "stream",
     "text": [
      "S A U R A B H\n"
     ]
    }
   ],
   "source": [
    "print(\" \".join(['S','A','U','R','A','B','H']))"
   ]
  },
  {
   "cell_type": "code",
   "execution_count": 45,
   "id": "f7c2ebd7",
   "metadata": {
    "scrolled": true
   },
   "outputs": [
    {
     "ename": "TypeError",
     "evalue": "str.join() takes exactly one argument (7 given)",
     "output_type": "error",
     "traceback": [
      "\u001b[1;31m---------------------------------------------------------------------------\u001b[0m",
      "\u001b[1;31mTypeError\u001b[0m                                 Traceback (most recent call last)",
      "\u001b[1;32m~\\AppData\\Local\\Temp/ipykernel_11404/568692289.py\u001b[0m in \u001b[0;36m<module>\u001b[1;34m\u001b[0m\n\u001b[1;32m----> 1\u001b[1;33m \u001b[0mprint\u001b[0m\u001b[1;33m(\u001b[0m\u001b[1;34m\" \"\u001b[0m\u001b[1;33m.\u001b[0m\u001b[0mjoin\u001b[0m\u001b[1;33m(\u001b[0m\u001b[1;34m'S'\u001b[0m\u001b[1;33m,\u001b[0m\u001b[1;34m'A'\u001b[0m\u001b[1;33m,\u001b[0m\u001b[1;34m'U'\u001b[0m\u001b[1;33m,\u001b[0m\u001b[1;34m'R'\u001b[0m\u001b[1;33m,\u001b[0m\u001b[1;34m'A'\u001b[0m\u001b[1;33m,\u001b[0m\u001b[1;34m'B'\u001b[0m\u001b[1;33m,\u001b[0m\u001b[1;34m'H'\u001b[0m\u001b[1;33m)\u001b[0m\u001b[1;33m)\u001b[0m\u001b[1;33m\u001b[0m\u001b[1;33m\u001b[0m\u001b[0m\n\u001b[0m",
      "\u001b[1;31mTypeError\u001b[0m: str.join() takes exactly one argument (7 given)"
     ]
    }
   ],
   "source": [
    "print(\" \".join('S','A','U','R','A','B','H'))"
   ]
  },
  {
   "cell_type": "code",
   "execution_count": 46,
   "id": "b02bbe5f",
   "metadata": {},
   "outputs": [
    {
     "name": "stdout",
     "output_type": "stream",
     "text": [
      "S A U R A B H\n"
     ]
    }
   ],
   "source": [
    "print(\" \".join(('S','A','U','R','A','B','H')))"
   ]
  },
  {
   "cell_type": "markdown",
   "id": "f0e842af",
   "metadata": {},
   "source": [
    "#### Q8. What is the benefit of first checking the target string with in or not in before using the index method to find a substring ?\n",
    "**Ans:** Checking will avoid error (ValueError)\n",
    "\n",
    "Example:"
   ]
  },
  {
   "cell_type": "code",
   "execution_count": 50,
   "id": "fb38451f",
   "metadata": {},
   "outputs": [
    {
     "data": {
      "text/plain": [
       "1"
      ]
     },
     "execution_count": 50,
     "metadata": {},
     "output_type": "execute_result"
    }
   ],
   "source": [
    "in_string = \"Gupta\" \n",
    "in_string.index('u')"
   ]
  },
  {
   "cell_type": "code",
   "execution_count": 51,
   "id": "7f415fc1",
   "metadata": {},
   "outputs": [
    {
     "ename": "ValueError",
     "evalue": "substring not found",
     "output_type": "error",
     "traceback": [
      "\u001b[1;31m---------------------------------------------------------------------------\u001b[0m",
      "\u001b[1;31mValueError\u001b[0m                                Traceback (most recent call last)",
      "\u001b[1;32m~\\AppData\\Local\\Temp/ipykernel_11404/122675686.py\u001b[0m in \u001b[0;36m<module>\u001b[1;34m\u001b[0m\n\u001b[0;32m      1\u001b[0m \u001b[0min_string\u001b[0m \u001b[1;33m=\u001b[0m \u001b[1;34m\"Gupta\"\u001b[0m\u001b[1;33m\u001b[0m\u001b[1;33m\u001b[0m\u001b[0m\n\u001b[1;32m----> 2\u001b[1;33m \u001b[0min_string\u001b[0m\u001b[1;33m.\u001b[0m\u001b[0mindex\u001b[0m\u001b[1;33m(\u001b[0m\u001b[1;34m'S'\u001b[0m\u001b[1;33m)\u001b[0m\u001b[1;33m\u001b[0m\u001b[1;33m\u001b[0m\u001b[0m\n\u001b[0m",
      "\u001b[1;31mValueError\u001b[0m: substring not found"
     ]
    }
   ],
   "source": [
    "in_string = \"Gupta\" \n",
    "in_string.index('S')"
   ]
  },
  {
   "cell_type": "markdown",
   "id": "86b6bc76",
   "metadata": {},
   "source": [
    "#### Q9. Which operators and built-in string methods produce simple Boolean (true/false) results?\n",
    "**Ans:** \n",
    "\n",
    "* isprintable()\n",
    "* isalpha()\n",
    "* isnumeric()\n",
    "* isalnum()\n",
    "* isspace()\n",
    "* istitle()\n",
    "* isdecimal()\n",
    "* isdigit()\n",
    "* islower()\n",
    "* in\n",
    "* not"
   ]
  },
  {
   "cell_type": "code",
   "execution_count": null,
   "id": "343b00b9",
   "metadata": {},
   "outputs": [],
   "source": []
  }
 ],
 "metadata": {
  "kernelspec": {
   "display_name": "Python 3 (ipykernel)",
   "language": "python",
   "name": "python3"
  },
  "language_info": {
   "codemirror_mode": {
    "name": "ipython",
    "version": 3
   },
   "file_extension": ".py",
   "mimetype": "text/x-python",
   "name": "python",
   "nbconvert_exporter": "python",
   "pygments_lexer": "ipython3",
   "version": "3.9.7"
  }
 },
 "nbformat": 4,
 "nbformat_minor": 5
}

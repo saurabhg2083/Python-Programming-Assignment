{
 "cells": [
  {
   "cell_type": "markdown",
   "id": "07153806",
   "metadata": {},
   "source": [
    "# Python Programming Assignment 5"
   ]
  },
  {
   "cell_type": "markdown",
   "id": "8a38a825",
   "metadata": {},
   "source": [
    "### 1.\tWrite a Python Program to Find LCM?\n",
    "\n"
   ]
  },
  {
   "cell_type": "code",
   "execution_count": 13,
   "id": "d09a4ad3",
   "metadata": {},
   "outputs": [],
   "source": [
    "def compute_lcm(x, y):\n",
    "\n",
    "    if x > y:\n",
    "        greater = x\n",
    "    else:\n",
    "        greater = y\n",
    "\n",
    "    while(True):\n",
    "        if((greater % x == 0) and (greater % y == 0)):\n",
    "            lcm = greater\n",
    "            break\n",
    "    greater += 1\n",
    "\n",
    "    return lcm"
   ]
  },
  {
   "cell_type": "code",
   "execution_count": 14,
   "id": "867e5aa2",
   "metadata": {},
   "outputs": [
    {
     "name": "stdout",
     "output_type": "stream",
     "text": [
      "The L.C.M. is 24\n"
     ]
    }
   ],
   "source": [
    "num1 = 12\n",
    "num2 = 24\n",
    "\n",
    "print(\"The L.C.M. is\", compute_lcm(num1, num2))"
   ]
  },
  {
   "cell_type": "markdown",
   "id": "573af5c1",
   "metadata": {},
   "source": [
    "### 2.\tWrite a Python Program to Find HCF?\n"
   ]
  },
  {
   "cell_type": "code",
   "execution_count": 15,
   "id": "990325cc",
   "metadata": {},
   "outputs": [],
   "source": [
    "def compute_hcf(x, y):\n",
    "\n",
    "    if x > y:\n",
    "        smaller = y\n",
    "    else:\n",
    "        smaller = x\n",
    "    for i in range(1, smaller+1):\n",
    "        if((x % i == 0) and (y % i == 0)):\n",
    "            hcf = i \n",
    "    return hcf"
   ]
  },
  {
   "cell_type": "code",
   "execution_count": 16,
   "id": "613d269e",
   "metadata": {},
   "outputs": [
    {
     "name": "stdout",
     "output_type": "stream",
     "text": [
      "The H.C.F. is 6\n"
     ]
    }
   ],
   "source": [
    "num1 = 54 \n",
    "num2 = 24\n",
    "\n",
    "print(\"The H.C.F. is\", compute_hcf(num1, num2))"
   ]
  },
  {
   "cell_type": "markdown",
   "id": "7541d179",
   "metadata": {},
   "source": [
    "### 3.\tWrite a Python Program to Convert Decimal to Binary, Octal and Hexadecimal?\n"
   ]
  },
  {
   "cell_type": "code",
   "execution_count": 17,
   "id": "5d97fb3f",
   "metadata": {},
   "outputs": [
    {
     "name": "stdout",
     "output_type": "stream",
     "text": [
      "The decimal value of 344 is:\n",
      "0b101011000 in binary.\n",
      "0o530 in octal.\n",
      "0x158 in hexadecimal.\n"
     ]
    }
   ],
   "source": [
    "dec = 344\n",
    "\n",
    "print(\"The decimal value of\", dec, \"is:\")\n",
    "print(bin(dec), \"in binary.\")\n",
    "print(oct(dec), \"in octal.\")\n",
    "print(hex(dec), \"in hexadecimal.\")"
   ]
  },
  {
   "cell_type": "code",
   "execution_count": 27,
   "id": "76230581",
   "metadata": {},
   "outputs": [
    {
     "name": "stdout",
     "output_type": "stream",
     "text": [
      "0110"
     ]
    }
   ],
   "source": [
    "def DecimalToBinary(num):\n",
    "    if num >= 1:\n",
    "        DecimalToBinary(num // 2)\n",
    "    print(num % 2, end=\"\")\n",
    "\n",
    "DecimalToBinary(6)  "
   ]
  },
  {
   "cell_type": "code",
   "execution_count": 40,
   "id": "f0e667f1",
   "metadata": {},
   "outputs": [
    {
     "name": "stdout",
     "output_type": "stream",
     "text": [
      "041"
     ]
    }
   ],
   "source": [
    "def DecimalToOct(num):\n",
    "    temp = '';\n",
    "    if num >= 1:\n",
    "        DecimalToOct(num // 8)\n",
    "    print(num % 8, end=\"\")\n",
    "\n",
    "DecimalToOct(33) "
   ]
  },
  {
   "cell_type": "code",
   "execution_count": 39,
   "id": "e170744c",
   "metadata": {
    "scrolled": true
   },
   "outputs": [
    {
     "name": "stdout",
     "output_type": "stream",
     "text": [
      "41\n"
     ]
    }
   ],
   "source": [
    "def decimaltoOctal(deciNum):\n",
    "    octalNum = 0\n",
    "    countval = 1\n",
    "\n",
    "    while (deciNum != 0):\n",
    "        remainder = deciNum % 8\n",
    "        octalNum += remainder * countval\n",
    "        countval = countval * 10\n",
    "        deciNum //= 8        \n",
    "\n",
    "    print(octalNum)\n",
    "    \n",
    "decimaltoOctal(33)"
   ]
  },
  {
   "cell_type": "code",
   "execution_count": 46,
   "id": "b66125fc",
   "metadata": {},
   "outputs": [
    {
     "data": {
      "text/plain": [
       "'45'"
      ]
     },
     "execution_count": 46,
     "metadata": {},
     "output_type": "execute_result"
    }
   ],
   "source": [
    "conversion_table = {0: '0', 1: '1', 2: '2', 3: '3', 4: '4',5: '5', 6: '6', \n",
    "                    7: '7',8: '8', 9: '9', 10: 'A', 11: 'B', 12: \n",
    "                    'C',13: 'D', 14: 'E', 15: 'F'}\n",
    "\n",
    "def decimalToHexadecimal(decimal):\n",
    "    hexadecimal = ''\n",
    "    while(decimal > 0):\n",
    "        remainder = decimal % 16\n",
    "        hexadecimal = conversion_table[remainder] + hexadecimal\n",
    "        decimal = decimal // 16\n",
    "\n",
    "    return hexadecimal\n",
    "\n",
    "decimal_number = 69\n",
    "decimalToHexadecimal(decimal_number)"
   ]
  },
  {
   "cell_type": "markdown",
   "id": "1e52b019",
   "metadata": {},
   "source": [
    "### 4.\tWrite a Python Program To Find ASCII value of a character?"
   ]
  },
  {
   "cell_type": "code",
   "execution_count": 58,
   "id": "781ea451",
   "metadata": {},
   "outputs": [
    {
     "data": {
      "text/plain": [
       "('A', 65)"
      ]
     },
     "execution_count": 58,
     "metadata": {},
     "output_type": "execute_result"
    }
   ],
   "source": [
    "chr(65), ord('A')"
   ]
  },
  {
   "cell_type": "markdown",
   "id": "d758ead4",
   "metadata": {},
   "source": [
    "\n",
    "### 5.\tWrite a Python Program to Make a Simple Calculator with 4 basic mathematical operations?"
   ]
  },
  {
   "cell_type": "code",
   "execution_count": 1,
   "id": "b92dad0c",
   "metadata": {},
   "outputs": [
    {
     "name": "stdout",
     "output_type": "stream",
     "text": [
      "Select operation.\n",
      "1.Add\n",
      "2.Subtract\n",
      "3.Multiply\n",
      "4.Divide\n",
      "Enter choice(1/2/3/4): 2\n",
      "Enter first number: 2\n",
      "Enter second number: 2\n",
      "2.0 - 2.0 = 0.0\n",
      "Let's do next calculation? (yes/no): no\n"
     ]
    }
   ],
   "source": [
    "def add(x, y):\n",
    "    return x + y\n",
    "\n",
    "def subtract(x, y):\n",
    "    return x - y\n",
    "\n",
    "def multiply(x, y):\n",
    "    return x * y\n",
    "\n",
    "def divide(x, y):\n",
    "    return x / y\n",
    "\n",
    "\n",
    "print(\"Select operation.\")\n",
    "print(\"1.Add\")\n",
    "print(\"2.Subtract\")\n",
    "print(\"3.Multiply\")\n",
    "print(\"4.Divide\")\n",
    "\n",
    "while True:\n",
    "    choice = input(\"Enter choice(1/2/3/4): \")\n",
    "\n",
    "    if choice in ('1', '2', '3', '4'):\n",
    "        num1 = float(input(\"Enter first number: \"))\n",
    "        num2 = float(input(\"Enter second number: \"))\n",
    "\n",
    "        if choice == '1':\n",
    "            print(num1, \"+\", num2, \"=\", add(num1, num2))\n",
    "\n",
    "        elif choice == '2':\n",
    "            print(num1, \"-\", num2, \"=\", subtract(num1, num2))\n",
    "\n",
    "        elif choice == '3':\n",
    "            print(num1, \"*\", num2, \"=\", multiply(num1, num2))\n",
    "\n",
    "        elif choice == '4':\n",
    "            print(num1, \"/\", num2, \"=\", divide(num1, num2))\n",
    "        \n",
    "        next_calculation = input(\"Let's do next calculation? (yes/no): \")\n",
    "        if next_calculation == \"no\":\n",
    "            break\n",
    "    \n",
    "    else:\n",
    "        print(\"Invalid Input\")"
   ]
  },
  {
   "cell_type": "code",
   "execution_count": 76,
   "id": "fe2ec233",
   "metadata": {},
   "outputs": [],
   "source": []
  },
  {
   "cell_type": "code",
   "execution_count": null,
   "id": "c3127578",
   "metadata": {},
   "outputs": [],
   "source": []
  }
 ],
 "metadata": {
  "kernelspec": {
   "display_name": "Python 3 (ipykernel)",
   "language": "python",
   "name": "python3"
  },
  "language_info": {
   "codemirror_mode": {
    "name": "ipython",
    "version": 3
   },
   "file_extension": ".py",
   "mimetype": "text/x-python",
   "name": "python",
   "nbconvert_exporter": "python",
   "pygments_lexer": "ipython3",
   "version": "3.9.7"
  }
 },
 "nbformat": 4,
 "nbformat_minor": 5
}

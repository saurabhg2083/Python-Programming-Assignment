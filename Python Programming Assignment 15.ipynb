{
 "cells": [
  {
   "cell_type": "markdown",
   "id": "4e306f35",
   "metadata": {},
   "source": [
    "# Python Programming Assignment 15"
   ]
  },
  {
   "cell_type": "markdown",
   "id": "12ac57cd",
   "metadata": {},
   "source": [
    "### Question 1:Please write a program using generator to print the numbers which can be divisible by 5 and 7 between 0 and n in comma separated form while n is input by console.\n",
    "Example:\n",
    "If the following n is given as input to the program:\n",
    "100\n",
    "Then, the output of the program should be:\n",
    "0,35,70\n",
    "\n",
    "\n",
    "\n"
   ]
  },
  {
   "cell_type": "code",
   "execution_count": 27,
   "id": "c825b928",
   "metadata": {},
   "outputs": [
    {
     "name": "stdout",
     "output_type": "stream",
     "text": [
      "Value of n is 100\n",
      "0,35,70\n"
     ]
    }
   ],
   "source": [
    "def divCheckerBySeven(n):\n",
    "    for i in range(n):\n",
    "        if (i % 5) == 0 and (i % 7) == 0 :\n",
    "            yield i\n",
    "            \n",
    "print(\"Value of n is \", end=\"\")\n",
    "n = int(input())\n",
    "j =''\n",
    "for i in divCheckerBySeven(n):\n",
    "    j += str(i) + \",\"\n",
    "    result = j.rstrip(',')\n",
    "\n",
    "print(result)"
   ]
  },
  {
   "cell_type": "code",
   "execution_count": 30,
   "id": "ef5bbe80",
   "metadata": {
    "scrolled": true
   },
   "outputs": [
    {
     "name": "stdout",
     "output_type": "stream",
     "text": [
      "Value of n is 100\n"
     ]
    },
    {
     "data": {
      "text/plain": [
       "'0,35,70'"
      ]
     },
     "execution_count": 30,
     "metadata": {},
     "output_type": "execute_result"
    }
   ],
   "source": [
    "def divCheckerBySeven(n):\n",
    "    for i in range(n):\n",
    "        if (i % 5) == 0 and (i % 7) == 0 :\n",
    "            yield i\n",
    "    \n",
    "print(\"Value of n is \", end=\"\")\n",
    "n = int(input())\n",
    "j = []\n",
    "for i in divCheckerBySeven(n):\n",
    "    j.append(i)\n",
    "\n",
    "\n",
    "S=','.join([str(i) for i in j])\n",
    "S"
   ]
  },
  {
   "cell_type": "code",
   "execution_count": 31,
   "id": "236a8e29",
   "metadata": {},
   "outputs": [
    {
     "name": "stdout",
     "output_type": "stream",
     "text": [
      "Value of n is 100\n"
     ]
    },
    {
     "data": {
      "text/plain": [
       "'0,35,70'"
      ]
     },
     "execution_count": 31,
     "metadata": {},
     "output_type": "execute_result"
    }
   ],
   "source": [
    "def divCheckerBySeven(n):\n",
    "    for i in range(n):\n",
    "        if (i % 5) == 0 and (i % 7) == 0 :\n",
    "            yield i\n",
    "    \n",
    "print(\"Value of n is \", end=\"\")\n",
    "n = int(input())\n",
    "j = []\n",
    "for i in divCheckerBySeven(n):\n",
    "    j.append(i)\n",
    "    \n",
    "S=\",\".join( map( str, j ) )\n",
    "S"
   ]
  },
  {
   "cell_type": "markdown",
   "id": "eaabcdf4",
   "metadata": {},
   "source": [
    "### Question 2: Please write a program using generator to print the even numbers between 0 and n in comma separated form while n is input by console.\n",
    "Example:\n",
    "If the following n is given as input to the program:\n",
    "10\n",
    "Then, the output of the program should be:\n",
    "0,2,4,6,8,10\n"
   ]
  },
  {
   "cell_type": "code",
   "execution_count": 32,
   "id": "cf7a5814",
   "metadata": {},
   "outputs": [
    {
     "name": "stdout",
     "output_type": "stream",
     "text": [
      "Value of n is 10\n"
     ]
    },
    {
     "data": {
      "text/plain": [
       "'0,2,4,6,8,10'"
      ]
     },
     "execution_count": 32,
     "metadata": {},
     "output_type": "execute_result"
    }
   ],
   "source": [
    "print(\"Value of n is \", end=\"\")\n",
    "n = int(input())\n",
    "j = []\n",
    "for i in range(0, n+1):\n",
    "    if i%2==0:\n",
    "        j.append(i)\n",
    "        \n",
    "S=\",\".join( map( str, j ) )\n",
    "S"
   ]
  },
  {
   "cell_type": "markdown",
   "id": "e8724c84",
   "metadata": {},
   "source": [
    "### Question 3: The Fibonacci Sequence is computed based on the following formula:\n",
    "f(n)=0 if n=0\n",
    "f(n)=1 if n=1\n",
    "f(n)=f(n-1)+f(n-2) if n>1\n",
    "Please write a program using list comprehension to print the Fibonacci Sequence in comma separated form with a given n input by console.\n",
    "Example:\n",
    "If the following n is given as input to the program:\n",
    "7\n",
    "\n",
    "Then, the output of the program should be:\n",
    "0,1,1,2,3,5,8,13\n"
   ]
  },
  {
   "cell_type": "code",
   "execution_count": 4,
   "id": "5a09c320",
   "metadata": {},
   "outputs": [
    {
     "name": "stdout",
     "output_type": "stream",
     "text": [
      "7\n",
      "0,1,1,2,3,5,8,13\n"
     ]
    }
   ],
   "source": [
    "def Fibonacci(n):\n",
    "    if n == 0:\n",
    "        return n\n",
    "    elif n == 1:\n",
    "        return 1\n",
    "    else:        \n",
    "        return Fibonacci(n-1) + Fibonacci(n-2)\n",
    "\n",
    "n=int(input())\n",
    "values = [str(Fibonacci(x)) for x in range(0, n+1)]\n",
    "\n",
    "print(\",\".join(values))\n"
   ]
  },
  {
   "cell_type": "markdown",
   "id": "f1993d3b",
   "metadata": {},
   "source": [
    "### Question 4: Assuming that we have some email addresses in the \"username@companyname.com\" format, please write program to print the user name of a given email address. Both user names and company names are composed of letters only.\n",
    "Example:\n",
    "If the following email address is given as input to the program:\n",
    "john@google.com\n",
    "Then, the output of the program should be:\n",
    "john\n",
    "\n"
   ]
  },
  {
   "cell_type": "code",
   "execution_count": 12,
   "id": "5091f75b",
   "metadata": {},
   "outputs": [
    {
     "data": {
      "text/plain": [
       "('username', 'companyname')"
      ]
     },
     "execution_count": 12,
     "metadata": {},
     "output_type": "execute_result"
    }
   ],
   "source": [
    "import re\n",
    "emailAddress = \"username@companyname.com john@google.com\"\n",
    "pat2 = \"(\\w+)@(\\w+)\\.(\\w+)\"\n",
    "r2 = re.match(pat2,emailAddress)\n",
    "r2.group(1), r2.group(2)"
   ]
  },
  {
   "cell_type": "code",
   "execution_count": 15,
   "id": "6d58521b",
   "metadata": {},
   "outputs": [
    {
     "name": "stdout",
     "output_type": "stream",
     "text": [
      "['john']\n"
     ]
    }
   ],
   "source": [
    "import re\n",
    "\n",
    "email = \"john@google.com\"\n",
    "pattern = \"(\\w+)+@\\w+.\\w+\"\n",
    "ans = re.findall(pattern,email)\n",
    "print(ans)"
   ]
  },
  {
   "cell_type": "code",
   "execution_count": 14,
   "id": "654e8c0a",
   "metadata": {},
   "outputs": [
    {
     "name": "stdout",
     "output_type": "stream",
     "text": [
      "['john', 'elise']\n"
     ]
    }
   ],
   "source": [
    "import re\n",
    "\n",
    "email = \"john@google.com elise@python.com\"\n",
    "pattern = \"(\\w+)+@\\w+.\\w+\"\n",
    "ans = re.findall(pattern,email)\n",
    "print(ans)"
   ]
  },
  {
   "cell_type": "markdown",
   "id": "c37fa8a6",
   "metadata": {},
   "source": [
    "\n",
    "### Question 5: Define a class named Shape and its subclass Square. The Square class has an init function which takes a length as argument. Both classes have a area function which can print the area of the shape where Shape's area is 0 by default.\n"
   ]
  },
  {
   "cell_type": "code",
   "execution_count": 24,
   "id": "03e8034e",
   "metadata": {},
   "outputs": [
    {
     "data": {
      "text/plain": [
       "25"
      ]
     },
     "execution_count": 24,
     "metadata": {},
     "output_type": "execute_result"
    }
   ],
   "source": [
    "class Shape(object):\n",
    "    def __init__(self):\n",
    "        pass\n",
    "\n",
    "    def area(self):\n",
    "        return 0\n",
    "\n",
    "class Square(Shape):\n",
    "    def __init__(self, l):\n",
    "        Shape.__init__(self)\n",
    "        self.length = l\n",
    "\n",
    "    def area(self):\n",
    "        return self.length*self.length\n",
    "\n",
    "aSquare = Square(5)\n",
    "aSquare.area()\n",
    "\n",
    "#aShape = Shape()\n",
    "#aShape.area()"
   ]
  },
  {
   "cell_type": "code",
   "execution_count": null,
   "id": "7da75ac4",
   "metadata": {},
   "outputs": [],
   "source": []
  }
 ],
 "metadata": {
  "kernelspec": {
   "display_name": "Python 3 (ipykernel)",
   "language": "python",
   "name": "python3"
  },
  "language_info": {
   "codemirror_mode": {
    "name": "ipython",
    "version": 3
   },
   "file_extension": ".py",
   "mimetype": "text/x-python",
   "name": "python",
   "nbconvert_exporter": "python",
   "pygments_lexer": "ipython3",
   "version": "3.9.7"
  }
 },
 "nbformat": 4,
 "nbformat_minor": 5
}

{
 "cells": [
  {
   "cell_type": "markdown",
   "id": "c447d298",
   "metadata": {},
   "source": [
    "# Python Programming Assignment 16"
   ]
  },
  {
   "cell_type": "code",
   "execution_count": 6,
   "id": "6a6e4b32",
   "metadata": {},
   "outputs": [],
   "source": [
    "import math"
   ]
  },
  {
   "cell_type": "markdown",
   "id": "5cd8e70f",
   "metadata": {},
   "source": [
    "### Question1. Write a function that stutters a word as if someone is struggling to read it. The first two letters are repeated twice with an ellipsis ... and space after each, and then the word is pronounced with a question mark ?.\n",
    "Examples\n",
    "stutter(\"incredible\") ➞ \"in... in... incredible?\"\n",
    "\n",
    "stutter(\"enthusiastic\") ➞ \"en... en... enthusiastic?\"\n",
    "\n",
    "stutter(\"outstanding\") ➞ \"ou... ou... outstanding?\"\n",
    "\n",
    "Hint :- Assume all input is in lower case and at least two characters long.\n"
   ]
  },
  {
   "cell_type": "code",
   "execution_count": 8,
   "id": "8860870e",
   "metadata": {},
   "outputs": [
    {
     "name": "stdout",
     "output_type": "stream",
     "text": [
      "Enter word : saurabh\n",
      "sa... sa... saurabh?\n"
     ]
    }
   ],
   "source": [
    "def stutteringword(word):\n",
    "    return (2*(word[:2]+'... '))+word+'?'\n",
    "\n",
    "word = input('Enter word : ')\n",
    "print(stutteringword(word))"
   ]
  },
  {
   "cell_type": "markdown",
   "id": "d58b9b1a",
   "metadata": {},
   "source": [
    "### Question 2.Create a function that takes an angle in radians and returns the corresponding angle in degrees rounded to one decimal place.\n",
    "Examples\n",
    "radians_to_degrees(1) ➞ 57.3\n",
    "\n",
    "radians_to_degrees(20) ➞ 1145.9\n",
    "\n",
    "radians_to_degrees(50) ➞ 2864.8\n"
   ]
  },
  {
   "cell_type": "code",
   "execution_count": 7,
   "id": "61034e8a",
   "metadata": {},
   "outputs": [
    {
     "name": "stdout",
     "output_type": "stream",
     "text": [
      "Enter the Radian : 50\n",
      "degree = 2864.7913954398887\n"
     ]
    }
   ],
   "source": [
    "def radians_to_degrees(radian):\n",
    "    pi = 3.14159\n",
    "    degree = radian * (180/pi)\n",
    "    return degree\n",
    "radian = float(input('Enter the Radian : '))\n",
    "print(\"degree =\",(radians_to_degrees(radian)))"
   ]
  },
  {
   "cell_type": "markdown",
   "id": "a8aac22f",
   "metadata": {},
   "source": [
    "\n",
    "\n",
    "### Question 3. In this challenge, establish if a given integer num is a Curzon number. If 1 plus 2 elevated to num is exactly divisible by 1 plus 2 multiplied by num, then num is a Curzon number.\n",
    "Given a non-negative integer num, implement a function that returns True if num is a Curzon number, or False otherwise.\n",
    "Examples\n",
    "is_curzon(5) ➞ True\n",
    "#### 2 ** 5 + 1 = 33\n",
    "#### 2 * 5 + 1 = 11\n",
    "#### 33 is a multiple of 11\n",
    "\n",
    "is_curzon(10) ➞ False\n",
    "#### 2 ** 10 + 1 = 1025\n",
    "#### 2 * 10 + 1 = 21\n",
    "#### 1025 is not a multiple of 21\n",
    "\n",
    "is_curzon(14) ➞ True\n",
    "#### 2 ** 14 + 1 = 16385\n",
    "#### 2 * 14 + 1 = 29\n",
    "#### 16385 is a multiple of 29\n"
   ]
  },
  {
   "cell_type": "code",
   "execution_count": 9,
   "id": "3f8ee873",
   "metadata": {},
   "outputs": [
    {
     "name": "stdout",
     "output_type": "stream",
     "text": [
      "Enter a number : 120\n",
      "120 is not a Curzon Number\n"
     ]
    }
   ],
   "source": [
    "def checkIfCurzonNumber(n): \n",
    "    power, product = 0, 0 \n",
    "    power = pow(2, n) + 1 \n",
    "    product = 2 * n + 1 \n",
    "    if (power % product == 0):\n",
    "        print(n, \"is Curzon Number\")\n",
    "    else:\n",
    "        print(n, \"is not a Curzon Number\")\n",
    "        \n",
    "n = int(input('Enter a number : '))\n",
    "checkIfCurzonNumber(n)"
   ]
  },
  {
   "cell_type": "code",
   "execution_count": 10,
   "id": "54b5dcdd",
   "metadata": {},
   "outputs": [
    {
     "name": "stdout",
     "output_type": "stream",
     "text": [
      "Enter a number : 1\n",
      "1 is Curzon Number\n"
     ]
    }
   ],
   "source": [
    "n = int(input('Enter a number : '))\n",
    "checkIfCurzonNumber(n)"
   ]
  },
  {
   "cell_type": "code",
   "execution_count": 11,
   "id": "12d666a0",
   "metadata": {},
   "outputs": [
    {
     "name": "stdout",
     "output_type": "stream",
     "text": [
      "Enter a number : 2\n",
      "2 is Curzon Number\n"
     ]
    }
   ],
   "source": [
    "n = int(input('Enter a number : '))\n",
    "checkIfCurzonNumber(n)"
   ]
  },
  {
   "cell_type": "code",
   "execution_count": 12,
   "id": "44070e47",
   "metadata": {},
   "outputs": [
    {
     "name": "stdout",
     "output_type": "stream",
     "text": [
      "Enter a number : 3\n",
      "3 is not a Curzon Number\n"
     ]
    }
   ],
   "source": [
    "n = int(input('Enter a number : '))\n",
    "checkIfCurzonNumber(n)"
   ]
  },
  {
   "cell_type": "code",
   "execution_count": 13,
   "id": "b913e5aa",
   "metadata": {},
   "outputs": [
    {
     "name": "stdout",
     "output_type": "stream",
     "text": [
      "Enter a number : 4\n",
      "4 is not a Curzon Number\n"
     ]
    }
   ],
   "source": [
    "n = int(input('Enter a number : '))\n",
    "checkIfCurzonNumber(n)"
   ]
  },
  {
   "cell_type": "code",
   "execution_count": 14,
   "id": "1eaa2a62",
   "metadata": {},
   "outputs": [
    {
     "name": "stdout",
     "output_type": "stream",
     "text": [
      "Enter a number : 5\n",
      "5 is Curzon Number\n"
     ]
    }
   ],
   "source": [
    "n = int(input('Enter a number : '))\n",
    "checkIfCurzonNumber(n)"
   ]
  },
  {
   "cell_type": "markdown",
   "id": "639ea62f",
   "metadata": {},
   "source": [
    "### Question 4.Given the side length x find the area of a hexagon.\n",
    " \n",
    "Examples\n",
    "area_of_hexagon(1) ➞ 2.6\n",
    "\n",
    "area_of_hexagon(2) ➞ 10.4\n",
    "\n",
    "area_of_hexagon(3) ➞ 23.4"
   ]
  },
  {
   "cell_type": "code",
   "execution_count": 15,
   "id": "466c1c97",
   "metadata": {},
   "outputs": [
    {
     "name": "stdout",
     "output_type": "stream",
     "text": [
      "Enter the length : 2\n",
      "Area: 10.39\n"
     ]
    }
   ],
   "source": [
    "def area_hexagon(s):\n",
    "    # math.sqrt(3) = 1.75\n",
    "    return ((3 * math.sqrt(3) * (s * s)) / 2);\n",
    "     \n",
    "sideLen = float(input('Enter the length : '))\n",
    "print(\"Area:\",\"{0:.2f}\".format(area_hexagon(sideLen)))"
   ]
  },
  {
   "cell_type": "code",
   "execution_count": 16,
   "id": "86e13071",
   "metadata": {},
   "outputs": [
    {
     "name": "stdout",
     "output_type": "stream",
     "text": [
      "Enter the length : 1\n",
      "Area: 2.60\n"
     ]
    }
   ],
   "source": [
    "sideLen = float(input('Enter the length : '))\n",
    "print(\"Area:\",\"{0:.2f}\".format(area_hexagon(sideLen)))"
   ]
  },
  {
   "cell_type": "markdown",
   "id": "6b228838",
   "metadata": {},
   "source": [
    "### Question 5. Create a function that returns a base-2 (binary) representation of a base-10 (decimal) string number. To convert is simple: ((2) means base-2 and (10) means base-10) 010101001(2) = 1 + 8 + 32 + 128.\n",
    "Going from right to left, the value of the most right bit is 1, now from that every bit to the left will be x2 the value, value of an 8 bit binary numbers are (256, 128, 64, 32, 16, 8, 4, 2, 1).\n",
    "Examples\n",
    "binary(1) ➞ \"1\"\n",
    "#### 1*1 = 1\n",
    "\n",
    "binary(5) ➞ \"101\"\n",
    "#### 1*1 + 1*4 = 5\n",
    "\n",
    "binary(10) ➞ \"1010\"\n",
    "#### 1*2 + 1*8 = 10"
   ]
  },
  {
   "cell_type": "code",
   "execution_count": 18,
   "id": "c8ef5564",
   "metadata": {},
   "outputs": [
    {
     "name": "stdout",
     "output_type": "stream",
     "text": [
      "0\n",
      "1\n",
      "10\n",
      "11\n",
      "100\n",
      "101\n",
      "110\n",
      "111\n",
      "1000\n",
      "1001\n",
      "1010\n",
      "1011\n",
      "1100\n",
      "1101\n",
      "1110\n",
      "1111\n",
      "10000\n",
      "10001\n",
      "10010\n",
      "10011\n",
      "10100\n",
      "10101\n",
      "10110\n",
      "10111\n",
      "11000\n",
      "11001\n",
      "11010\n",
      "11011\n",
      "11100\n",
      "11101\n",
      "11110\n",
      "11111\n",
      "100000\n",
      "100001\n",
      "100010\n",
      "100011\n",
      "100100\n",
      "100101\n",
      "100110\n",
      "100111\n",
      "101000\n",
      "101001\n",
      "101010\n",
      "101011\n",
      "101100\n",
      "101101\n",
      "101110\n",
      "101111\n",
      "110000\n",
      "110001\n"
     ]
    }
   ],
   "source": [
    "def decimalToBinary(n):\n",
    "    return bin(n).replace(\"0b\", \"\")\n",
    "   \n",
    "for i in range(0,50):\n",
    "    print(decimalToBinary(i))"
   ]
  },
  {
   "cell_type": "code",
   "execution_count": null,
   "id": "60a7809e",
   "metadata": {},
   "outputs": [],
   "source": []
  }
 ],
 "metadata": {
  "kernelspec": {
   "display_name": "Python 3 (ipykernel)",
   "language": "python",
   "name": "python3"
  },
  "language_info": {
   "codemirror_mode": {
    "name": "ipython",
    "version": 3
   },
   "file_extension": ".py",
   "mimetype": "text/x-python",
   "name": "python",
   "nbconvert_exporter": "python",
   "pygments_lexer": "ipython3",
   "version": "3.9.7"
  }
 },
 "nbformat": 4,
 "nbformat_minor": 5
}

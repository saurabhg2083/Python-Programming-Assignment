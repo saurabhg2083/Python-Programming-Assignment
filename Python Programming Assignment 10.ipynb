{
 "cells": [
  {
   "cell_type": "markdown",
   "id": "47394c20",
   "metadata": {},
   "source": [
    "# Python Programming Assignment 10"
   ]
  },
  {
   "cell_type": "markdown",
   "id": "e379c959",
   "metadata": {},
   "source": [
    "### 1.\tWrite a Python program to find sum of elements in list?\n",
    "\n",
    "\n"
   ]
  },
  {
   "cell_type": "code",
   "execution_count": 2,
   "id": "c0586a4c",
   "metadata": {},
   "outputs": [
    {
     "data": {
      "text/plain": [
       "26"
      ]
     },
     "execution_count": 2,
     "metadata": {},
     "output_type": "execute_result"
    }
   ],
   "source": [
    "lst = [2,3,3,8,10]\n",
    "\n",
    "sum(lst)"
   ]
  },
  {
   "cell_type": "markdown",
   "id": "44fceb18",
   "metadata": {},
   "source": [
    "### 2.\tWrite a Python program to  Multiply all numbers in the list?\n"
   ]
  },
  {
   "cell_type": "code",
   "execution_count": 4,
   "id": "2acbd6fc",
   "metadata": {},
   "outputs": [
    {
     "data": {
      "text/plain": [
       "120"
      ]
     },
     "execution_count": 4,
     "metadata": {},
     "output_type": "execute_result"
    }
   ],
   "source": [
    "lst = [1,2,3,4,5]\n",
    "product = 1\n",
    "for i in lst:\n",
    "    product = product*i\n",
    "\n",
    "product"
   ]
  },
  {
   "cell_type": "markdown",
   "id": "2518a878",
   "metadata": {},
   "source": [
    "### 3.\tWrite a Python program to find smallest number in a list?"
   ]
  },
  {
   "cell_type": "code",
   "execution_count": 7,
   "id": "18881f4e",
   "metadata": {},
   "outputs": [
    {
     "data": {
      "text/plain": [
       "2"
      ]
     },
     "execution_count": 7,
     "metadata": {},
     "output_type": "execute_result"
    }
   ],
   "source": [
    "lst = [11,2,3,4,5,12,23]\n",
    "min(lst)"
   ]
  },
  {
   "cell_type": "markdown",
   "id": "69d19c18",
   "metadata": {},
   "source": [
    "\n",
    "### 4.\tWrite a Python program to find largest number in a list?"
   ]
  },
  {
   "cell_type": "code",
   "execution_count": 9,
   "id": "59001afc",
   "metadata": {},
   "outputs": [
    {
     "data": {
      "text/plain": [
       "5"
      ]
     },
     "execution_count": 9,
     "metadata": {},
     "output_type": "execute_result"
    }
   ],
   "source": [
    "lst = [1,2,3,4,5]\n",
    "max(lst)"
   ]
  },
  {
   "cell_type": "markdown",
   "id": "6b4a98ba",
   "metadata": {},
   "source": [
    "\n",
    "### ### 5.\tWrite a Python program to find second largest number in a list?\n"
   ]
  },
  {
   "cell_type": "code",
   "execution_count": 12,
   "id": "6be41d23",
   "metadata": {},
   "outputs": [
    {
     "data": {
      "text/plain": [
       "4"
      ]
     },
     "execution_count": 12,
     "metadata": {},
     "output_type": "execute_result"
    }
   ],
   "source": [
    "lst = [1,2,3,4,5]\n",
    "lst.sort()\n",
    "lst[-2]"
   ]
  },
  {
   "cell_type": "markdown",
   "id": "d9c47be7",
   "metadata": {},
   "source": [
    "### 6.\tWrite a Python program to find N largest elements from a list?"
   ]
  },
  {
   "cell_type": "code",
   "execution_count": 14,
   "id": "15cb5e74",
   "metadata": {},
   "outputs": [
    {
     "data": {
      "text/plain": [
       "[101, 200, 300]"
      ]
     },
     "execution_count": 14,
     "metadata": {},
     "output_type": "execute_result"
    }
   ],
   "source": [
    "nlargest = 3\n",
    "lst = [1,2,3,4,5,101,20,30,200,300]\n",
    "lst.sort()\n",
    "n = len(lst)\n",
    "\n",
    "lst[(n-nlargest):]"
   ]
  },
  {
   "cell_type": "markdown",
   "id": "03fe985e",
   "metadata": {},
   "source": [
    "### 7.\tWrite a Python program to print even numbers in a list?"
   ]
  },
  {
   "cell_type": "code",
   "execution_count": 16,
   "id": "5b7a4c28",
   "metadata": {},
   "outputs": [
    {
     "data": {
      "text/plain": [
       "[2, 4, 20, 30, 200, 300]"
      ]
     },
     "execution_count": 16,
     "metadata": {},
     "output_type": "execute_result"
    }
   ],
   "source": [
    "lst = [1,2,3,4,5,101,20,30,200,300,13,15,17]\n",
    "even = [i for i in lst if i%2==0 ]\n",
    "even"
   ]
  },
  {
   "cell_type": "markdown",
   "id": "b7f589cb",
   "metadata": {},
   "source": [
    "\n",
    "\n",
    "### 8.\tWrite a Python program to print odd numbers in a List?"
   ]
  },
  {
   "cell_type": "code",
   "execution_count": 17,
   "id": "6935fade",
   "metadata": {},
   "outputs": [
    {
     "data": {
      "text/plain": [
       "[1, 3, 5, 101, 13, 15, 17]"
      ]
     },
     "execution_count": 17,
     "metadata": {},
     "output_type": "execute_result"
    }
   ],
   "source": [
    "lst = [1,2,3,4,5,101,20,30,200,300,13,15,17]\n",
    "odd = [i for i in lst if i%2!=0 ]\n",
    "odd"
   ]
  },
  {
   "cell_type": "markdown",
   "id": "bac33639",
   "metadata": {},
   "source": [
    "### 9.\tWrite a Python program to Remove empty List from List?"
   ]
  },
  {
   "cell_type": "code",
   "execution_count": 20,
   "id": "aa1b283c",
   "metadata": {},
   "outputs": [
    {
     "data": {
      "text/plain": [
       "[1, 2, 3, 4, 5, 101, 20, 30, 200, 300, 13, 15, 17, [1, 2, 3]]"
      ]
     },
     "execution_count": 20,
     "metadata": {},
     "output_type": "execute_result"
    }
   ],
   "source": [
    "lst = [1,2,3,4,5,[],101,20,30,200,[],300,13,15,17,[1,2,3]]\n",
    "new_list = [item for item in lst if item != []]\n",
    "new_list"
   ]
  },
  {
   "cell_type": "markdown",
   "id": "788128c2",
   "metadata": {},
   "source": [
    "\n",
    "\n",
    "### 10.\tWrite a Python program to Cloning or Copying a list?\n"
   ]
  },
  {
   "cell_type": "code",
   "execution_count": 22,
   "id": "416a432d",
   "metadata": {},
   "outputs": [
    {
     "data": {
      "text/plain": [
       "[1, 2, 3, 4, 5, 101, 20, 30, 200, 300, 13, 15, 17, [1, 2, 3]]"
      ]
     },
     "execution_count": 22,
     "metadata": {},
     "output_type": "execute_result"
    }
   ],
   "source": [
    "lst = [1,2,3,4,5,[],101,20,30,200,[],300,13,15,17,[1,2,3]]\n",
    "lst_copy = new_list.copy()\n",
    "lst_copy"
   ]
  },
  {
   "cell_type": "code",
   "execution_count": null,
   "id": "59a5cc96",
   "metadata": {},
   "outputs": [],
   "source": [
    "### 11.\tWrite a Python program to Count occurrences of an element in a list?"
   ]
  },
  {
   "cell_type": "code",
   "execution_count": 25,
   "id": "2bf11f2a",
   "metadata": {},
   "outputs": [
    {
     "data": {
      "text/plain": [
       "3"
      ]
     },
     "execution_count": 25,
     "metadata": {},
     "output_type": "execute_result"
    }
   ],
   "source": [
    "lst = [1,2,3,4,20,5,[],101,20,30,200,[],300,13,15,17,[1,2,3],20]\n",
    "lst.count(20)"
   ]
  },
  {
   "cell_type": "code",
   "execution_count": null,
   "id": "b0548b1e",
   "metadata": {},
   "outputs": [],
   "source": []
  }
 ],
 "metadata": {
  "kernelspec": {
   "display_name": "Python 3 (ipykernel)",
   "language": "python",
   "name": "python3"
  },
  "language_info": {
   "codemirror_mode": {
    "name": "ipython",
    "version": 3
   },
   "file_extension": ".py",
   "mimetype": "text/x-python",
   "name": "python",
   "nbconvert_exporter": "python",
   "pygments_lexer": "ipython3",
   "version": "3.9.7"
  }
 },
 "nbformat": 4,
 "nbformat_minor": 5
}

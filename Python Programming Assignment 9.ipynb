{
 "cells": [
  {
   "cell_type": "markdown",
   "id": "3b16d986",
   "metadata": {},
   "source": [
    "# Python Programming Assignment 9"
   ]
  },
  {
   "cell_type": "markdown",
   "id": "911fc046",
   "metadata": {},
   "source": [
    "### 1.\tWrite a Python program to check if the given number is a Disarium Number?\n"
   ]
  },
  {
   "cell_type": "code",
   "execution_count": 11,
   "id": "840d6d5f",
   "metadata": {},
   "outputs": [
    {
     "name": "stdout",
     "output_type": "stream",
     "text": [
      "Disarium Number\n"
     ]
    }
   ],
   "source": [
    "import math\n",
    "\n",
    "def check(n) :\n",
    "    count_digits = len(str(n))\n",
    "    sum = 0\n",
    "    x = n\n",
    "    while (x!=0) :\n",
    "        r = x % 10\n",
    "        sum = (int) (sum + math.pow(r, count_digits))\n",
    "        count_digits = count_digits - 1\n",
    "        x = x//10\n",
    "\n",
    "    if sum == n :\n",
    "        return 1\n",
    "    else :\n",
    "        return 0\n",
    "\n",
    "n = 89\n",
    "if (check(n) == 1) :\n",
    "    print (\"Disarium Number\")\n",
    "else :\n",
    "    print (\"Not a Disarium Number\")\n"
   ]
  },
  {
   "cell_type": "markdown",
   "id": "5a1790e4",
   "metadata": {},
   "source": [
    "### 2.\tWrite a Python program to print all disarium numbers between 1 to 100?"
   ]
  },
  {
   "cell_type": "code",
   "execution_count": 4,
   "id": "72e51dd3",
   "metadata": {},
   "outputs": [
    {
     "name": "stdout",
     "output_type": "stream",
     "text": [
      "[1, 2, 3, 4, 5, 6, 7, 8, 9, 89]\n"
     ]
    }
   ],
   "source": [
    "import math\n",
    "\n",
    "def check(n,m) :\n",
    "    disno = []\n",
    "    for i in range(n,m):\n",
    "        count_digits = len(str(i))\n",
    "        sum = 0\n",
    "        x = i\n",
    "        while (x!=0) :\n",
    "            r = x % 10\n",
    "            sum = (int) (sum + math.pow(r, count_digits))\n",
    "            count_digits = count_digits - 1\n",
    "            x = x//10\n",
    "\n",
    "        if sum == i :\n",
    "             disno.append(i)       \n",
    "    print(disno)\n",
    "\n",
    "n=1\n",
    "m=100\n",
    "check(n,m)"
   ]
  },
  {
   "cell_type": "markdown",
   "id": "72732f87",
   "metadata": {},
   "source": [
    "### 3.\tWrite a Python program to check if the given number is Happy Number?"
   ]
  },
  {
   "cell_type": "code",
   "execution_count": 28,
   "id": "52ba1baf",
   "metadata": {},
   "outputs": [],
   "source": [
    "def isHappynumber(n):\n",
    "    if n == 1:\n",
    "        return True\n",
    "\n",
    "    Sum, x = n, n\n",
    "\n",
    "    while Sum > 9:\n",
    "        Sum = 0\n",
    "\n",
    "        while x > 0:\n",
    "            d = x % 10\n",
    "            Sum += d * d\n",
    "            x = int(x / 10)\n",
    "\n",
    "        if Sum == 1:\n",
    "            return True\n",
    "\n",
    "        x = Sum\n",
    "\n",
    "    if Sum == 1:\n",
    "        return True\n",
    "\n",
    "    return False"
   ]
  },
  {
   "cell_type": "code",
   "execution_count": 54,
   "id": "b39c34e9",
   "metadata": {},
   "outputs": [
    {
     "name": "stdout",
     "output_type": "stream",
     "text": [
      "23 is a Happy number\n"
     ]
    }
   ],
   "source": [
    "n = 23\n",
    "\n",
    "if isHappynumber(n):\n",
    "    print(n, \"is a Happy number\")\n",
    "else:\n",
    "    print(n, \"is not a Happy number\")"
   ]
  },
  {
   "cell_type": "markdown",
   "id": "80a59e17",
   "metadata": {},
   "source": [
    "### 4.\tWrite a Python program to print all happy numbers between 1 and 100?"
   ]
  },
  {
   "cell_type": "code",
   "execution_count": 55,
   "id": "7e718e68",
   "metadata": {},
   "outputs": [],
   "source": [
    "def isHappynumberRangr(n,m):\n",
    "    disno = []\n",
    "    for i in range(n,m):    \n",
    "        \n",
    "        Sum, x = i, i\n",
    "\n",
    "        while Sum > 9:\n",
    "            Sum = 0\n",
    "\n",
    "            while x > 0:\n",
    "                d = x % 10\n",
    "                Sum += d * d\n",
    "                x = int(x / 10)\n",
    "\n",
    "            x = Sum\n",
    "\n",
    "        if Sum == 1:\n",
    "            disno.append(i)       \n",
    "    print(disno)\n"
   ]
  },
  {
   "cell_type": "code",
   "execution_count": 57,
   "id": "59032566",
   "metadata": {},
   "outputs": [
    {
     "name": "stdout",
     "output_type": "stream",
     "text": [
      "[1, 10, 13, 19, 23, 28, 31, 32, 44, 49, 68, 70, 79, 82, 86, 91, 94, 97]\n"
     ]
    }
   ],
   "source": [
    "n=1\n",
    "m=100\n",
    "isHappynumberRangr(n,m)"
   ]
  },
  {
   "cell_type": "markdown",
   "id": "eb0ae13a",
   "metadata": {},
   "source": [
    "### 5.\tWrite a Python program to determine whether the given number is a Harshad Number?\n"
   ]
  },
  {
   "cell_type": "code",
   "execution_count": 62,
   "id": "20bfeec1",
   "metadata": {},
   "outputs": [],
   "source": [
    "def checkHarshad(n):\n",
    "    sum = 0\n",
    "    temp = n\n",
    "    while temp > 0 :\n",
    "        sum = sum + temp % 10\n",
    "        temp = temp // 10\n",
    "        \n",
    "    if n % sum == 0:\n",
    "        return 1\n",
    "    else:\n",
    "        return 0"
   ]
  },
  {
   "cell_type": "code",
   "execution_count": 69,
   "id": "bc068990",
   "metadata": {},
   "outputs": [
    {
     "name": "stdout",
     "output_type": "stream",
     "text": [
      "Yes\n"
     ]
    }
   ],
   "source": [
    "if checkHarshad(18) == 1: \n",
    "    print(\"Yes\")\n",
    "else:\n",
    "    print(\"No\")"
   ]
  },
  {
   "cell_type": "markdown",
   "id": "0355c510",
   "metadata": {},
   "source": [
    "### 6.\tWrite a Python program to print all pronic numbers between 1 and 100?"
   ]
  },
  {
   "cell_type": "code",
   "execution_count": 70,
   "id": "2927bd89",
   "metadata": {},
   "outputs": [],
   "source": [
    "import math\n",
    "\n",
    "def checkPronic (x) :\n",
    "    i = 0\n",
    "    while ( i <= (int)(math.sqrt(x)) ) :\n",
    "\n",
    "        if ( x == i * (i + 1)) :\n",
    "            return True\n",
    "        i = i + 1\n",
    "\n",
    "    return False"
   ]
  },
  {
   "cell_type": "code",
   "execution_count": 72,
   "id": "732ea397",
   "metadata": {},
   "outputs": [
    {
     "name": "stdout",
     "output_type": "stream",
     "text": [
      "0 2 6 12 20 30 42 56 72 90 "
     ]
    }
   ],
   "source": [
    "i = 0\n",
    "while (i <= 100 ) :\n",
    "    if checkPronic(i) :\n",
    "        print(i,end=\" \")\n",
    "    i = i + 1"
   ]
  },
  {
   "cell_type": "code",
   "execution_count": null,
   "id": "5731c33c",
   "metadata": {},
   "outputs": [],
   "source": []
  }
 ],
 "metadata": {
  "kernelspec": {
   "display_name": "Python 3 (ipykernel)",
   "language": "python",
   "name": "python3"
  },
  "language_info": {
   "codemirror_mode": {
    "name": "ipython",
    "version": 3
   },
   "file_extension": ".py",
   "mimetype": "text/x-python",
   "name": "python",
   "nbconvert_exporter": "python",
   "pygments_lexer": "ipython3",
   "version": "3.9.7"
  }
 },
 "nbformat": 4,
 "nbformat_minor": 5
}
